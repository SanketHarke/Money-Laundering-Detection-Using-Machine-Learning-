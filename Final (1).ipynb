{
 "cells": [
  {
   "cell_type": "code",
   "execution_count": null,
   "metadata": {
    "application/vnd.databricks.v1+cell": {
     "cellMetadata": {
      "byteLimit": 2048000,
      "rowLimit": 10000
     },
     "inputWidgets": {},
     "nuid": "1d668adc-96a4-42c3-b6bd-9a5f74f04a8b",
     "showTitle": false,
     "title": ""
    }
   },
   "outputs": [
    {
     "data": {
      "text/html": [
       "<style scoped>\n",
       "  .table-result-container {\n",
       "    max-height: 300px;\n",
       "    overflow: auto;\n",
       "  }\n",
       "  table, th, td {\n",
       "    border: 1px solid black;\n",
       "    border-collapse: collapse;\n",
       "  }\n",
       "  th, td {\n",
       "    padding: 5px;\n",
       "  }\n",
       "  th {\n",
       "    text-align: left;\n",
       "  }\n",
       "</style><div class='table-result-container'><table class='table-result'><thead style='background-color: white'><tr><th>path</th><th>name</th><th>size</th><th>modificationTime</th></tr></thead><tbody><tr><td>dbfs:/mnt/amldata1/models/</td><td>models/</td><td>0</td><td>1723378296000</td></tr><tr><td>dbfs:/mnt/amldata1/raw_data/</td><td>raw_data/</td><td>0</td><td>1722704148000</td></tr><tr><td>dbfs:/mnt/amldata1/transformed_data/</td><td>transformed_data/</td><td>0</td><td>1722704165000</td></tr></tbody></table></div>"
      ]
     },
     "metadata": {
      "application/vnd.databricks.v1+output": {
       "addedWidgets": {},
       "aggData": [],
       "aggError": "",
       "aggOverflow": false,
       "aggSchema": [],
       "aggSeriesLimitReached": false,
       "aggType": "",
       "arguments": {},
       "columnCustomDisplayInfos": {},
       "data": [
        [
         "dbfs:/mnt/amldata1/models/",
         "models/",
         0,
         1723378296000
        ],
        [
         "dbfs:/mnt/amldata1/raw_data/",
         "raw_data/",
         0,
         1722704148000
        ],
        [
         "dbfs:/mnt/amldata1/transformed_data/",
         "transformed_data/",
         0,
         1722704165000
        ]
       ],
       "datasetInfos": [],
       "dbfsResultPath": null,
       "isJsonSchema": true,
       "metadata": {
        "isDbfsCommandResult": false
       },
       "overflow": false,
       "plotOptions": {
        "customPlotOptions": {},
        "displayType": "table",
        "pivotAggregation": null,
        "pivotColumns": null,
        "xColumns": null,
        "yColumns": null
       },
       "removedWidgets": [],
       "schema": [
        {
         "metadata": "{}",
         "name": "path",
         "type": "\"string\""
        },
        {
         "metadata": "{}",
         "name": "name",
         "type": "\"string\""
        },
        {
         "metadata": "{}",
         "name": "size",
         "type": "\"long\""
        },
        {
         "metadata": "{}",
         "name": "modificationTime",
         "type": "\"long\""
        }
       ],
       "type": "table"
      }
     },
     "output_type": "display_data"
    }
   ],
   "source": [
    "%fs\n",
    "ls \"/mnt/amldata1\"\n"
   ]
  },
  {
   "cell_type": "code",
   "execution_count": null,
   "metadata": {
    "application/vnd.databricks.v1+cell": {
     "cellMetadata": {
      "byteLimit": 2048000,
      "rowLimit": 10000
     },
     "inputWidgets": {},
     "nuid": "4853ee73-0ed4-48d3-b3ca-9b8c82ae10e9",
     "showTitle": false,
     "title": ""
    }
   },
   "outputs": [
    {
     "name": "stdout",
     "output_type": "stream",
     "text": [
      "+----------------+---------+----------------+---------+----------------+---------------+------------------+-----------+----------------+--------------+-------------+\n",
      "|       Timestamp|From Bank|         Account|  To Bank|       Account.1|Amount Received|Receiving Currency|Amount Paid|Payment Currency|Payment Format|Is Laundering|\n",
      "+----------------+---------+----------------+---------+----------------+---------------+------------------+-----------+----------------+--------------+-------------+\n",
      "|2022/09/14 14:25|  22483.0|3.96198008724E11|2122502.0|6.85224370921E11|       13839.26|              Euro|   13839.26|            Euro|   Credit Card|          0.0|\n",
      "|2022/09/06 19:37| 110968.0|6.91975356951E11| 286299.0|1.14086851699E11|         637.56|         US Dollar|     637.56|       US Dollar|        Cheque|          0.0|\n",
      "|2022/09/14 01:58|     70.0|  9.792510395E11| 283504.0|9.55692521826E11|         153.17|         US Dollar|     153.17|       US Dollar|          Cash|          0.0|\n",
      "|2022/09/07 16:28|     25.0|7.14586759338E11| 130142.0|9.40977963024E11|       14724.68|              Yuan|   14724.68|            Yuan|   Credit Card|          0.0|\n",
      "|2022/09/09 22:22|   1315.0|1.60500640952E11| 122138.0|3.28854219576E11|       50080.79|         US Dollar|   50080.79|       US Dollar|        Cheque|          0.0|\n",
      "|2022/09/09 20:09|   1924.0|5.61855623096E11|2152959.0|8.09353937367E11|         231.26|              Euro|     231.26|            Euro|        Cheque|          0.0|\n",
      "|2022/09/16 05:34|     70.0|  9.792510395E11|1104756.0|2.63864357785E11|          256.8|         US Dollar|      256.8|       US Dollar|   Credit Card|          0.0|\n",
      "|2022/09/05 03:04| 132869.0|2.87188342112E11| 250535.0|7.55392337838E11|      115766.95|               Yen|  115766.95|             Yen|   Credit Card|          0.0|\n",
      "|2022/09/07 22:29|    214.0|1.08395312461E11|    214.0|9.85751268054E11|         274.77|              Euro|     321.97|       US Dollar|           ACH|          0.0|\n",
      "|2022/09/14 15:09|  28348.0|6.17057152091E11| 252918.0|7.72348990408E11|       23677.71|         US Dollar|   23677.71|       US Dollar|          Cash|          0.0|\n",
      "|2022/09/03 12:26|   2609.0|3.90575529019E11|   7537.0|8.89269527354E11|          10.97|              Euro|      10.97|            Euro|          Wire|          0.0|\n",
      "|2022/09/07 03:44|  14620.0|6.28618660855E11|   8087.0|2.55792156635E11|        1677.49|              Euro|    1677.49|            Euro|   Credit Card|          0.0|\n",
      "|2022/09/03 03:21|      2.0|3.69800039897E11| 123651.0|3.02150455334E11|         5966.6|             Rupee|     5966.6|           Rupee|        Cheque|          0.0|\n",
      "|2022/09/09 19:12|  11032.0|2.47332172809E11| 111247.0|8.14825748924E11|       87120.96|         US Dollar|   87120.96|       US Dollar|        Cheque|          0.0|\n",
      "|2022/09/01 00:01|  91631.0| 6.2657184031E11|  91631.0|1.19334799206E11|         165.18|              Yuan|     165.18|            Yuan|  Reinvestment|          0.0|\n",
      "|2022/09/01 00:26|     12.0|7.75480996257E11|      3.0|4.44708450137E11|      259860.84|              Euro|  259860.84|            Euro|           ACH|          0.0|\n",
      "|2022/09/15 03:34|  21617.0|7.11166657057E11|   3905.0|6.51529050923E11|        2982.49|              Euro|    2982.49|            Euro|   Credit Card|          0.0|\n",
      "|2022/09/01 00:19| 162478.0|5.66496459223E11| 162478.0|2.51368079184E11|      904568.73|       Brazil Real|  904568.73|     Brazil Real|  Reinvestment|          0.0|\n",
      "|2022/09/16 09:26|  15325.0|1.87502101013E11|  29598.0|6.57805072675E11|       89617.87|         US Dollar|   89617.87|       US Dollar|        Cheque|          0.0|\n",
      "|2022/09/13 03:20|    112.0|5.05037196374E11| 142661.0|9.61200019094E11|       41761.25|      Mexican Peso|   41761.25|    Mexican Peso|   Credit Card|          0.0|\n",
      "+----------------+---------+----------------+---------+----------------+---------------+------------------+-----------+----------------+--------------+-------------+\n",
      "only showing top 20 rows\n",
      "\n"
     ]
    }
   ],
   "source": [
    "from pyspark.sql import SparkSession\n",
    "from pyspark.sql.functions import col, regexp_replace, to_date\n",
    "from pyspark.ml.feature import StringIndexer\n",
    "\n",
    "# Initialize Spark session\n",
    "spark = SparkSession.builder \\\n",
    "    .appName(\"Data Processing and Cleaning\") \\\n",
    "    .getOrCreate()\n",
    "\n",
    "# Load data (assuming you have already read your data into 'df')\n",
    "df = spark.read.csv(\"/mnt/amldata1/raw_data/dataset.csv\", header=True, inferSchema=True)\n",
    "\n",
    "df.show()\n"
   ]
  },
  {
   "cell_type": "code",
   "execution_count": null,
   "metadata": {
    "application/vnd.databricks.v1+cell": {
     "cellMetadata": {
      "byteLimit": 2048000,
      "rowLimit": 10000
     },
     "inputWidgets": {},
     "nuid": "3372e60d-bc50-4ea8-b22a-3744f388a9b1",
     "showTitle": false,
     "title": ""
    }
   },
   "outputs": [
    {
     "name": "stdout",
     "output_type": "stream",
     "text": [
      "['Timestamp', 'From Bank', 'Account', 'To Bank', 'Account.1', 'Amount Received', 'Receiving Currency', 'Amount Paid', 'Payment Currency', 'Payment Format', 'Is Laundering']\n"
     ]
    }
   ],
   "source": [
    "# Assuming df is your DataFrame\n",
    "columns_list = df.columns\n",
    "\n",
    "# Print the list of columns\n",
    "print(columns_list)\n"
   ]
  },
  {
   "cell_type": "code",
   "execution_count": null,
   "metadata": {},
   "outputs": [],
   "source": [
    "from pyspark.sql.functions import col, sum\n",
    "\n",
    "# Count null values for each column\n",
    "null_counts = df.select([sum(col(c).isNull().cast(\"int\")).alias(c) for c in df.columns])\n",
    "\n",
    "# Show the result\n",
    "null_counts.show()\n"
   ]
  },
  {
   "cell_type": "code",
   "execution_count": null,
   "metadata": {
    "application/vnd.databricks.v1+cell": {
     "cellMetadata": {
      "byteLimit": 2048000,
      "rowLimit": 10000
     },
     "inputWidgets": {},
     "nuid": "f4e44f4c-1e48-48e7-8eb1-8e2ba05c3f7f",
     "showTitle": false,
     "title": ""
    }
   },
   "outputs": [],
   "source": [
    "# Step 1: Data Cleaning\n",
    "\n",
    "df = df.na.drop(subset=['From Bank', 'Payment Format'])"
   ]
  },
  {
   "cell_type": "code",
   "execution_count": null,
   "metadata": {
    "application/vnd.databricks.v1+cell": {
     "cellMetadata": {
      "byteLimit": 2048000,
      "rowLimit": 10000
     },
     "inputWidgets": {},
     "nuid": "6960e8f6-cd2e-493c-b161-89dbda40ee3c",
     "showTitle": false,
     "title": ""
    }
   },
   "outputs": [],
   "source": [
    "# 1.2 Remove Duplicates\n",
    "df = df.dropDuplicates()"
   ]
  },
  {
   "cell_type": "code",
   "execution_count": null,
   "metadata": {
    "application/vnd.databricks.v1+cell": {
     "cellMetadata": {
      "byteLimit": 2048000,
      "rowLimit": 10000
     },
     "inputWidgets": {},
     "nuid": "6117293d-66fa-45e4-a6ed-aa9884bca5c5",
     "showTitle": false,
     "title": ""
    }
   },
   "outputs": [
    {
     "name": "stdout",
     "output_type": "stream",
     "text": [
      "Column: Timestamp, Data Type: string\n",
      "Column: From Bank, Data Type: double\n",
      "Column: Account, Data Type: double\n",
      "Column: To Bank, Data Type: double\n",
      "Column: Account.1, Data Type: double\n",
      "Column: Amount Received, Data Type: double\n",
      "Column: Receiving Currency, Data Type: string\n",
      "Column: Amount Paid, Data Type: double\n",
      "Column: Payment Currency, Data Type: string\n",
      "Column: Payment Format, Data Type: string\n",
      "Column: Is Laundering, Data Type: double\n"
     ]
    }
   ],
   "source": [
    "#df is our DataFrame\n",
    "columns_and_types = df.dtypes\n",
    "\n",
    "# Print the data types of all columns\n",
    "for column, data_type in columns_and_types:\n",
    "    print(f\"Column: {column}, Data Type: {data_type}\")\n"
   ]
  },
  {
   "cell_type": "code",
   "execution_count": null,
   "metadata": {
    "application/vnd.databricks.v1+cell": {
     "cellMetadata": {
      "byteLimit": 2048000,
      "rowLimit": 10000
     },
     "inputWidgets": {},
     "nuid": "d055d5ab-ceb4-4478-8c10-044842dc6519",
     "showTitle": false,
     "title": ""
    }
   },
   "outputs": [],
   "source": [
    "# 1.3 Data Type Transformation\n",
    "df = df.withColumn(\"Timestamp\", to_date(col(\"Timestamp\"), \"yyyy-MM-dd\"))"
   ]
  },
  {
   "cell_type": "code",
   "execution_count": null,
   "metadata": {},
   "outputs": [],
   "source": [
    "from pyspark.sql.functions import year, month\n",
    "\n",
    "# Add 'Year' column extracted from 'Timestamp'\n",
    "data = data.withColumn('Year', year('Timestamp'))\n",
    "\n",
    "# Add 'Month' column extracted from 'Timestamp'\n",
    "data = data.withColumn('Month', month('Timestamp'))\n"
   ]
  },
  {
   "cell_type": "code",
   "execution_count": null,
   "metadata": {
    "application/vnd.databricks.v1+cell": {
     "cellMetadata": {
      "byteLimit": 2048000,
      "rowLimit": 10000
     },
     "inputWidgets": {},
     "nuid": "2508ed91-08be-481d-bd23-2cb69cd9243b",
     "showTitle": false,
     "title": ""
    }
   },
   "outputs": [
    {
     "name": "stdout",
     "output_type": "stream",
     "text": [
      "+--------------+--------------------+\n",
      "|Payment Format|Payment Format Index|\n",
      "+--------------+--------------------+\n",
      "|           ACH|                 1.0|\n",
      "|          Wire|                 5.0|\n",
      "|   Credit Card|                 2.0|\n",
      "|   Credit Card|                 2.0|\n",
      "|        Cheque|                 0.0|\n",
      "|        Cheque|                 0.0|\n",
      "|          Cash|                 3.0|\n",
      "|        Cheque|                 0.0|\n",
      "|           ACH|                 1.0|\n",
      "|   Credit Card|                 2.0|\n",
      "|        Cheque|                 0.0|\n",
      "|   Credit Card|                 2.0|\n",
      "|   Credit Card|                 2.0|\n",
      "|   Credit Card|                 2.0|\n",
      "|   Credit Card|                 2.0|\n",
      "|   Credit Card|                 2.0|\n",
      "|        Cheque|                 0.0|\n",
      "|        Cheque|                 0.0|\n",
      "|        Cheque|                 0.0|\n",
      "|   Credit Card|                 2.0|\n",
      "+--------------+--------------------+\n",
      "only showing top 20 rows\n",
      "\n"
     ]
    }
   ],
   "source": [
    "from pyspark.ml.feature import StringIndexer\n",
    "\n",
    "# Initialize the StringIndexer\n",
    "indexer = StringIndexer(inputCol=\"Payment Format\", outputCol=\"Payment Format Index\")\n",
    "\n",
    "# Fit the indexer and transform the data\n",
    "df_indexed = indexer.fit(df).transform(df)\n",
    "\n",
    "# Show the resulting DataFrame with the new indexed column\n",
    "df_indexed.select(\"Payment Format\", \"Payment Format Index\").show()\n"
   ]
  },
  {
   "cell_type": "code",
   "execution_count": null,
   "metadata": {
    "application/vnd.databricks.v1+cell": {
     "cellMetadata": {
      "byteLimit": 2048000,
      "rowLimit": 10000
     },
     "inputWidgets": {},
     "nuid": "e7241352-5b06-442d-bb5f-aac0b40d94ca",
     "showTitle": false,
     "title": ""
    },
    "id": "J_pflZhvfqst"
   },
   "outputs": [],
   "source": [
    "import pandas as pd\n",
    "import numpy as np\n",
    "import matplotlib.pyplot as plt\n",
    "import seaborn as sns\n",
    "\n",
    "from sklearn.linear_model import LogisticRegression\n",
    "from sklearn.metrics import mean_squared_error, r2_score,mean_absolute_error\n",
    "\n",
    "from sklearn.preprocessing import LabelEncoder\n",
    "from sklearn.preprocessing import StandardScaler\n",
    "\n",
    "from sklearn.model_selection import train_test_split, cross_val_score\n",
    "from sklearn.preprocessing import OneHotEncoder\n",
    "from sklearn.compose import ColumnTransformer\n",
    "from sklearn.pipeline import Pipeline\n",
    "from sklearn.ensemble import RandomForestRegressor\n",
    "from sklearn.tree import DecisionTreeRegressor\n"
   ]
  },
  {
   "cell_type": "code",
   "execution_count": null,
   "metadata": {
    "application/vnd.databricks.v1+cell": {
     "cellMetadata": {
      "byteLimit": 2048000,
      "rowLimit": 10000
     },
     "inputWidgets": {},
     "nuid": "40de9eaa-0b8c-40b5-8311-0c56c00fa0d1",
     "showTitle": false,
     "title": ""
    },
    "colab": {
     "base_uri": "https://localhost:8080/",
     "height": 206
    },
    "id": "AYohAeWReHdH",
    "outputId": "4fe888b8-7dec-4f10-ca2d-04e862eb1414"
   },
   "outputs": [
    {
     "data": {
      "text/html": [
       "<div>\n",
       "<style scoped>\n",
       "    .dataframe tbody tr th:only-of-type {\n",
       "        vertical-align: middle;\n",
       "    }\n",
       "\n",
       "    .dataframe tbody tr th {\n",
       "        vertical-align: top;\n",
       "    }\n",
       "\n",
       "    .dataframe thead th {\n",
       "        text-align: right;\n",
       "    }\n",
       "</style>\n",
       "<table border=\"1\" class=\"dataframe\">\n",
       "  <thead>\n",
       "    <tr style=\"text-align: right;\">\n",
       "      <th></th>\n",
       "      <th>Timestamp</th>\n",
       "      <th>From Bank</th>\n",
       "      <th>Account</th>\n",
       "      <th>To Bank</th>\n",
       "      <th>Account.1</th>\n",
       "      <th>Amount Received</th>\n",
       "      <th>Receiving Currency</th>\n",
       "      <th>Amount Paid</th>\n",
       "      <th>Payment Currency</th>\n",
       "      <th>Payment Format</th>\n",
       "      <th>Is Laundering</th>\n",
       "    </tr>\n",
       "  </thead>\n",
       "  <tbody>\n",
       "    <tr>\n",
       "      <th>0</th>\n",
       "      <td>2022/09/14 14:25</td>\n",
       "      <td>22483.0</td>\n",
       "      <td>3.961980e+11</td>\n",
       "      <td>2122502.0</td>\n",
       "      <td>6.852244e+11</td>\n",
       "      <td>13839.26</td>\n",
       "      <td>Euro</td>\n",
       "      <td>13839.26</td>\n",
       "      <td>Euro</td>\n",
       "      <td>Credit Card</td>\n",
       "      <td>0.0</td>\n",
       "    </tr>\n",
       "    <tr>\n",
       "      <th>1</th>\n",
       "      <td>2022/09/06 19:37</td>\n",
       "      <td>110968.0</td>\n",
       "      <td>6.919754e+11</td>\n",
       "      <td>286299.0</td>\n",
       "      <td>1.140869e+11</td>\n",
       "      <td>637.56</td>\n",
       "      <td>US Dollar</td>\n",
       "      <td>637.56</td>\n",
       "      <td>US Dollar</td>\n",
       "      <td>Cheque</td>\n",
       "      <td>0.0</td>\n",
       "    </tr>\n",
       "    <tr>\n",
       "      <th>2</th>\n",
       "      <td>2022/09/14 01:58</td>\n",
       "      <td>70.0</td>\n",
       "      <td>9.792510e+11</td>\n",
       "      <td>283504.0</td>\n",
       "      <td>9.556925e+11</td>\n",
       "      <td>153.17</td>\n",
       "      <td>US Dollar</td>\n",
       "      <td>153.17</td>\n",
       "      <td>US Dollar</td>\n",
       "      <td>Cash</td>\n",
       "      <td>0.0</td>\n",
       "    </tr>\n",
       "    <tr>\n",
       "      <th>3</th>\n",
       "      <td>2022/09/07 16:28</td>\n",
       "      <td>25.0</td>\n",
       "      <td>7.145868e+11</td>\n",
       "      <td>130142.0</td>\n",
       "      <td>9.409780e+11</td>\n",
       "      <td>14724.68</td>\n",
       "      <td>Yuan</td>\n",
       "      <td>14724.68</td>\n",
       "      <td>Yuan</td>\n",
       "      <td>Credit Card</td>\n",
       "      <td>0.0</td>\n",
       "    </tr>\n",
       "    <tr>\n",
       "      <th>4</th>\n",
       "      <td>2022/09/09 22:22</td>\n",
       "      <td>1315.0</td>\n",
       "      <td>1.605006e+11</td>\n",
       "      <td>122138.0</td>\n",
       "      <td>3.288542e+11</td>\n",
       "      <td>50080.79</td>\n",
       "      <td>US Dollar</td>\n",
       "      <td>50080.79</td>\n",
       "      <td>US Dollar</td>\n",
       "      <td>Cheque</td>\n",
       "      <td>0.0</td>\n",
       "    </tr>\n",
       "  </tbody>\n",
       "</table>\n",
       "</div>"
      ],
      "text/plain": [
       "          Timestamp  From Bank  ...  Payment Format  Is Laundering\n",
       "0  2022/09/14 14:25    22483.0  ...     Credit Card            0.0\n",
       "1  2022/09/06 19:37   110968.0  ...          Cheque            0.0\n",
       "2  2022/09/14 01:58       70.0  ...            Cash            0.0\n",
       "3  2022/09/07 16:28       25.0  ...     Credit Card            0.0\n",
       "4  2022/09/09 22:22     1315.0  ...          Cheque            0.0\n",
       "\n",
       "[5 rows x 11 columns]"
      ]
     },
     "execution_count": 4,
     "metadata": {},
     "output_type": "execute_result"
    }
   ],
   "source": [
    "# Define the path to your CSV file\n",
    "file_path = \"/mnt/amldata1/raw_data/dataset.csv\"\n",
    "\n",
    "# Read the CSV file into a Spark DataFrame\n",
    "df = spark.read.csv(file_path, header=True, inferSchema=True)\n",
    "\n",
    "# Convert Spark DataFrame to pandas DataFrame\n",
    "data = df.toPandas()\n",
    "\n",
    "# Show the data\n",
    "data.head(5)\n",
    "\n"
   ]
  },
  {
   "cell_type": "code",
   "execution_count": null,
   "metadata": {
    "application/vnd.databricks.v1+cell": {
     "cellMetadata": {
      "byteLimit": 2048000,
      "rowLimit": 10000
     },
     "inputWidgets": {},
     "nuid": "8a9b1da6-8d7c-4d32-8717-97ae74d8b39e",
     "showTitle": false,
     "title": ""
    },
    "colab": {
     "base_uri": "https://localhost:8080/",
     "height": 206
    },
    "id": "gOSxURVWfv8K",
    "outputId": "8c63a5d2-5894-4396-b22e-4f7cef52dc6e"
   },
   "outputs": [
    {
     "data": {
      "text/html": [
       "<div>\n",
       "<style scoped>\n",
       "    .dataframe tbody tr th:only-of-type {\n",
       "        vertical-align: middle;\n",
       "    }\n",
       "\n",
       "    .dataframe tbody tr th {\n",
       "        vertical-align: top;\n",
       "    }\n",
       "\n",
       "    .dataframe thead th {\n",
       "        text-align: right;\n",
       "    }\n",
       "</style>\n",
       "<table border=\"1\" class=\"dataframe\">\n",
       "  <thead>\n",
       "    <tr style=\"text-align: right;\">\n",
       "      <th></th>\n",
       "      <th>Timestamp</th>\n",
       "      <th>From Bank</th>\n",
       "      <th>Account</th>\n",
       "      <th>To Bank</th>\n",
       "      <th>Account.1</th>\n",
       "      <th>Amount Received</th>\n",
       "      <th>Receiving Currency</th>\n",
       "      <th>Amount Paid</th>\n",
       "      <th>Payment Currency</th>\n",
       "      <th>Payment Format</th>\n",
       "      <th>Is Laundering</th>\n",
       "    </tr>\n",
       "  </thead>\n",
       "  <tbody>\n",
       "    <tr>\n",
       "      <th>1247266</th>\n",
       "      <td>2022/09/18 10:49</td>\n",
       "      <td>3.0</td>\n",
       "      <td>2.314647e+11</td>\n",
       "      <td>231646.0</td>\n",
       "      <td>1.944843e+11</td>\n",
       "      <td>18452.14</td>\n",
       "      <td>US Dollar</td>\n",
       "      <td>18452.14</td>\n",
       "      <td>US Dollar</td>\n",
       "      <td>ACH</td>\n",
       "      <td>1.0</td>\n",
       "    </tr>\n",
       "    <tr>\n",
       "      <th>1247267</th>\n",
       "      <td>2022/09/21 11:20</td>\n",
       "      <td>231646.0</td>\n",
       "      <td>5.773843e+11</td>\n",
       "      <td>28920.0</td>\n",
       "      <td>9.383246e+11</td>\n",
       "      <td>20180.27</td>\n",
       "      <td>US Dollar</td>\n",
       "      <td>20180.27</td>\n",
       "      <td>US Dollar</td>\n",
       "      <td>ACH</td>\n",
       "      <td>1.0</td>\n",
       "    </tr>\n",
       "    <tr>\n",
       "      <th>1247268</th>\n",
       "      <td>2022/09/19 12:56</td>\n",
       "      <td>28920.0</td>\n",
       "      <td>2.706355e+11</td>\n",
       "      <td>237063.0</td>\n",
       "      <td>6.453592e+11</td>\n",
       "      <td>19430.22</td>\n",
       "      <td>US Dollar</td>\n",
       "      <td>19430.22</td>\n",
       "      <td>US Dollar</td>\n",
       "      <td>ACH</td>\n",
       "      <td>1.0</td>\n",
       "    </tr>\n",
       "    <tr>\n",
       "      <th>1247269</th>\n",
       "      <td>2022/09/22 09:09</td>\n",
       "      <td>237063.0</td>\n",
       "      <td>5.314594e+11</td>\n",
       "      <td>192738.0</td>\n",
       "      <td>9.177097e+11</td>\n",
       "      <td>14808.76</td>\n",
       "      <td>UK Pound</td>\n",
       "      <td>14808.76</td>\n",
       "      <td>UK Pound</td>\n",
       "      <td>ACH</td>\n",
       "      <td>1.0</td>\n",
       "    </tr>\n",
       "    <tr>\n",
       "      <th>1247270</th>\n",
       "      <td>2022/09/18 16:41</td>\n",
       "      <td>192738.0</td>\n",
       "      <td>7.724497e+11</td>\n",
       "      <td>21954.0</td>\n",
       "      <td>1.632963e+11</td>\n",
       "      <td>18022.26</td>\n",
       "      <td>Euro</td>\n",
       "      <td>18022.26</td>\n",
       "      <td>Euro</td>\n",
       "      <td>ACH</td>\n",
       "      <td>1.0</td>\n",
       "    </tr>\n",
       "  </tbody>\n",
       "</table>\n",
       "</div>"
      ],
      "text/plain": [
       "                Timestamp  From Bank  ...  Payment Format  Is Laundering\n",
       "1247266  2022/09/18 10:49        3.0  ...             ACH            1.0\n",
       "1247267  2022/09/21 11:20   231646.0  ...             ACH            1.0\n",
       "1247268  2022/09/19 12:56    28920.0  ...             ACH            1.0\n",
       "1247269  2022/09/22 09:09   237063.0  ...             ACH            1.0\n",
       "1247270  2022/09/18 16:41   192738.0  ...             ACH            1.0\n",
       "\n",
       "[5 rows x 11 columns]"
      ]
     },
     "execution_count": 5,
     "metadata": {},
     "output_type": "execute_result"
    }
   ],
   "source": [
    "data.tail()"
   ]
  },
  {
   "cell_type": "code",
   "execution_count": null,
   "metadata": {
    "application/vnd.databricks.v1+cell": {
     "cellMetadata": {
      "byteLimit": 2048000,
      "rowLimit": 10000
     },
     "inputWidgets": {},
     "nuid": "987cd32b-0056-4919-9c01-1349890030bf",
     "showTitle": false,
     "title": ""
    },
    "colab": {
     "base_uri": "https://localhost:8080/"
    },
    "id": "42hfLDplfv1U",
    "outputId": "49856e71-1961-45e6-82d5-2b1e1cbb2145"
   },
   "outputs": [
    {
     "data": {
      "text/plain": [
       "(1247271, 11)"
      ]
     },
     "execution_count": 6,
     "metadata": {},
     "output_type": "execute_result"
    }
   ],
   "source": [
    "data.shape"
   ]
  },
  {
   "cell_type": "code",
   "execution_count": null,
   "metadata": {
    "application/vnd.databricks.v1+cell": {
     "cellMetadata": {
      "byteLimit": 2048000,
      "rowLimit": 10000
     },
     "inputWidgets": {},
     "nuid": "b232ae85-5767-4cc0-9758-df6203547ab0",
     "showTitle": false,
     "title": ""
    },
    "colab": {
     "base_uri": "https://localhost:8080/"
    },
    "id": "TcUaViQzfvvW",
    "outputId": "3c35a51c-0374-4684-a934-0864b11cba87"
   },
   "outputs": [
    {
     "data": {
      "text/plain": [
       "Index(['Timestamp', 'From Bank', 'Account', 'To Bank', 'Account.1',\n",
       "       'Amount Received', 'Receiving Currency', 'Amount Paid',\n",
       "       'Payment Currency', 'Payment Format', 'Is Laundering'],\n",
       "      dtype='object')"
      ]
     },
     "execution_count": 7,
     "metadata": {},
     "output_type": "execute_result"
    }
   ],
   "source": [
    "data.columns"
   ]
  },
  {
   "cell_type": "code",
   "execution_count": null,
   "metadata": {
    "application/vnd.databricks.v1+cell": {
     "cellMetadata": {
      "byteLimit": 2048000,
      "rowLimit": 10000
     },
     "inputWidgets": {},
     "nuid": "8144c6e5-8a86-4dd4-b354-2d0c675f4879",
     "showTitle": false,
     "title": ""
    },
    "colab": {
     "base_uri": "https://localhost:8080/",
     "height": 564
    },
    "id": "uKdY3n7ufvsv",
    "outputId": "4d0af5c9-0598-4de0-9307-e2519267067b"
   },
   "outputs": [
    {
     "data": {
      "image/png": "[encoded data removed]",
      "text/plain": [
       "<Figure size 800x600 with 1 Axes>"
      ]
     },
     "metadata": {},
     "output_type": "display_data"
    }
   ],
   "source": [
    "# Plot the count plot\n",
    "plt.figure(figsize=(8, 6))\n",
    "sns.countplot(x='Is Laundering', data=data)\n",
    "plt.title('Count Plot for Is_laundering')  # Correct method for setting the title\n",
    "plt.xlabel('Is Laundering')  # Correct method for setting the x-axis label\n",
    "plt.ylabel('Count')  # Correct method for setting the y-axis label\n",
    "plt.show()\n"
   ]
  },
  {
   "cell_type": "code",
   "execution_count": null,
   "metadata": {
    "application/vnd.databricks.v1+cell": {
     "cellMetadata": {
      "byteLimit": 2048000,
      "rowLimit": 10000
     },
     "inputWidgets": {},
     "nuid": "a94545eb-d3fb-483c-96d9-83fd01f2e2bf",
     "showTitle": false,
     "title": ""
    },
    "colab": {
     "base_uri": "https://localhost:8080/"
    },
    "id": "2z8IHQXmfvqW",
    "outputId": "15ccc7dd-2975-4900-a3b4-7948a210f29d"
   },
   "outputs": [
    {
     "name": "stdout",
     "output_type": "stream",
     "text": [
      "0.0    1000000\n",
      "1.0     247271\n",
      "Name: Is Laundering, dtype: int64\n"
     ]
    }
   ],
   "source": [
    "counts = data['Is Laundering'].value_counts()\n",
    "print(counts)"
   ]
  },
  {
   "cell_type": "code",
   "execution_count": null,
   "metadata": {
    "application/vnd.databricks.v1+cell": {
     "cellMetadata": {
      "byteLimit": 2048000,
      "rowLimit": 10000
     },
     "inputWidgets": {},
     "nuid": "fdfd8e39-2f3d-4806-ab1b-c5f344b4e742",
     "showTitle": false,
     "title": ""
    },
    "id": "SgEkrnp1fvkU"
   },
   "outputs": [],
   "source": [
    "data['Timestamp'] = pd.to_datetime(data['Timestamp'])"
   ]
  },
  {
   "cell_type": "code",
   "execution_count": null,
   "metadata": {
    "application/vnd.databricks.v1+cell": {
     "cellMetadata": {
      "byteLimit": 2048000,
      "rowLimit": 10000
     },
     "inputWidgets": {},
     "nuid": "ee35ef60-30c1-4239-90d8-abf65002ca7a",
     "showTitle": false,
     "title": ""
    },
    "id": "iz0GMacKfvht"
   },
   "outputs": [],
   "source": [
    "data['Year'] = data['Timestamp'].dt.year\n",
    "data['Month'] = data['Timestamp'].dt.month\n",
    "\n"
   ]
  },
  {
   "cell_type": "code",
   "execution_count": null,
   "metadata": {
    "application/vnd.databricks.v1+cell": {
     "cellMetadata": {
      "byteLimit": 2048000,
      "rowLimit": 10000
     },
     "inputWidgets": {},
     "nuid": "eb810479-e577-41fd-b3b6-cb3a74538519",
     "showTitle": false,
     "title": ""
    },
    "id": "LobrO0Rzfvf2"
   },
   "outputs": [],
   "source": [
    "data = data.drop(columns=['Timestamp'])"
   ]
  },
  {
   "cell_type": "code",
   "execution_count": null,
   "metadata": {
    "application/vnd.databricks.v1+cell": {
     "cellMetadata": {
      "byteLimit": 2048000,
      "rowLimit": 10000
     },
     "inputWidgets": {},
     "nuid": "77d1417b-17cc-4cc7-8c0b-a43dfc52d64f",
     "showTitle": false,
     "title": ""
    },
    "colab": {
     "base_uri": "https://localhost:8080/",
     "height": 223
    },
    "id": "5hyTQ1ANfvdh",
    "outputId": "92a67fc5-79c0-4af3-b8c2-324b6e4ebab2"
   },
   "outputs": [
    {
     "data": {
      "text/html": [
       "<div>\n",
       "<style scoped>\n",
       "    .dataframe tbody tr th:only-of-type {\n",
       "        vertical-align: middle;\n",
       "    }\n",
       "\n",
       "    .dataframe tbody tr th {\n",
       "        vertical-align: top;\n",
       "    }\n",
       "\n",
       "    .dataframe thead th {\n",
       "        text-align: right;\n",
       "    }\n",
       "</style>\n",
       "<table border=\"1\" class=\"dataframe\">\n",
       "  <thead>\n",
       "    <tr style=\"text-align: right;\">\n",
       "      <th></th>\n",
       "      <th>From Bank</th>\n",
       "      <th>Account</th>\n",
       "      <th>To Bank</th>\n",
       "      <th>Account.1</th>\n",
       "      <th>Amount Received</th>\n",
       "      <th>Receiving Currency</th>\n",
       "      <th>Amount Paid</th>\n",
       "      <th>Payment Currency</th>\n",
       "      <th>Payment Format</th>\n",
       "      <th>Is Laundering</th>\n",
       "      <th>Year</th>\n",
       "      <th>Month</th>\n",
       "    </tr>\n",
       "  </thead>\n",
       "  <tbody>\n",
       "    <tr>\n",
       "      <th>0</th>\n",
       "      <td>22483.0</td>\n",
       "      <td>3.961980e+11</td>\n",
       "      <td>2122502.0</td>\n",
       "      <td>6.852244e+11</td>\n",
       "      <td>13839.26</td>\n",
       "      <td>Euro</td>\n",
       "      <td>13839.26</td>\n",
       "      <td>Euro</td>\n",
       "      <td>Credit Card</td>\n",
       "      <td>0.0</td>\n",
       "      <td>2022.0</td>\n",
       "      <td>9.0</td>\n",
       "    </tr>\n",
       "    <tr>\n",
       "      <th>1</th>\n",
       "      <td>110968.0</td>\n",
       "      <td>6.919754e+11</td>\n",
       "      <td>286299.0</td>\n",
       "      <td>1.140869e+11</td>\n",
       "      <td>637.56</td>\n",
       "      <td>US Dollar</td>\n",
       "      <td>637.56</td>\n",
       "      <td>US Dollar</td>\n",
       "      <td>Cheque</td>\n",
       "      <td>0.0</td>\n",
       "      <td>2022.0</td>\n",
       "      <td>9.0</td>\n",
       "    </tr>\n",
       "    <tr>\n",
       "      <th>2</th>\n",
       "      <td>70.0</td>\n",
       "      <td>9.792510e+11</td>\n",
       "      <td>283504.0</td>\n",
       "      <td>9.556925e+11</td>\n",
       "      <td>153.17</td>\n",
       "      <td>US Dollar</td>\n",
       "      <td>153.17</td>\n",
       "      <td>US Dollar</td>\n",
       "      <td>Cash</td>\n",
       "      <td>0.0</td>\n",
       "      <td>2022.0</td>\n",
       "      <td>9.0</td>\n",
       "    </tr>\n",
       "    <tr>\n",
       "      <th>3</th>\n",
       "      <td>25.0</td>\n",
       "      <td>7.145868e+11</td>\n",
       "      <td>130142.0</td>\n",
       "      <td>9.409780e+11</td>\n",
       "      <td>14724.68</td>\n",
       "      <td>Yuan</td>\n",
       "      <td>14724.68</td>\n",
       "      <td>Yuan</td>\n",
       "      <td>Credit Card</td>\n",
       "      <td>0.0</td>\n",
       "      <td>2022.0</td>\n",
       "      <td>9.0</td>\n",
       "    </tr>\n",
       "    <tr>\n",
       "      <th>4</th>\n",
       "      <td>1315.0</td>\n",
       "      <td>1.605006e+11</td>\n",
       "      <td>122138.0</td>\n",
       "      <td>3.288542e+11</td>\n",
       "      <td>50080.79</td>\n",
       "      <td>US Dollar</td>\n",
       "      <td>50080.79</td>\n",
       "      <td>US Dollar</td>\n",
       "      <td>Cheque</td>\n",
       "      <td>0.0</td>\n",
       "      <td>2022.0</td>\n",
       "      <td>9.0</td>\n",
       "    </tr>\n",
       "  </tbody>\n",
       "</table>\n",
       "</div>"
      ],
      "text/plain": [
       "   From Bank       Account    To Bank  ...  Is Laundering    Year Month\n",
       "0    22483.0  3.961980e+11  2122502.0  ...            0.0  2022.0   9.0\n",
       "1   110968.0  6.919754e+11   286299.0  ...            0.0  2022.0   9.0\n",
       "2       70.0  9.792510e+11   283504.0  ...            0.0  2022.0   9.0\n",
       "3       25.0  7.145868e+11   130142.0  ...            0.0  2022.0   9.0\n",
       "4     1315.0  1.605006e+11   122138.0  ...            0.0  2022.0   9.0\n",
       "\n",
       "[5 rows x 12 columns]"
      ]
     },
     "execution_count": 13,
     "metadata": {},
     "output_type": "execute_result"
    }
   ],
   "source": [
    "data.head()"
   ]
  },
  {
   "cell_type": "code",
   "execution_count": null,
   "metadata": {
    "application/vnd.databricks.v1+cell": {
     "cellMetadata": {
      "byteLimit": 2048000,
      "rowLimit": 10000
     },
     "inputWidgets": {},
     "nuid": "ed79edfa-96f7-4252-8d45-01e5f2b57ace",
     "showTitle": false,
     "title": ""
    },
    "colab": {
     "base_uri": "https://localhost:8080/",
     "height": 223
    },
    "id": "9Q-qQrQXgIGa",
    "outputId": "c2c12668-d906-43ab-d27f-85adbdeb2723"
   },
   "outputs": [
    {
     "data": {
      "text/html": [
       "<div>\n",
       "<style scoped>\n",
       "    .dataframe tbody tr th:only-of-type {\n",
       "        vertical-align: middle;\n",
       "    }\n",
       "\n",
       "    .dataframe tbody tr th {\n",
       "        vertical-align: top;\n",
       "    }\n",
       "\n",
       "    .dataframe thead th {\n",
       "        text-align: right;\n",
       "    }\n",
       "</style>\n",
       "<table border=\"1\" class=\"dataframe\">\n",
       "  <thead>\n",
       "    <tr style=\"text-align: right;\">\n",
       "      <th></th>\n",
       "      <th>From Bank</th>\n",
       "      <th>Account</th>\n",
       "      <th>To Bank</th>\n",
       "      <th>Account.1</th>\n",
       "      <th>Amount Received</th>\n",
       "      <th>Receiving Currency</th>\n",
       "      <th>Amount Paid</th>\n",
       "      <th>Payment Currency</th>\n",
       "      <th>Payment Format</th>\n",
       "      <th>Is Laundering</th>\n",
       "      <th>Year</th>\n",
       "      <th>Month</th>\n",
       "    </tr>\n",
       "  </thead>\n",
       "  <tbody>\n",
       "    <tr>\n",
       "      <th>1247266</th>\n",
       "      <td>3.0</td>\n",
       "      <td>2.314647e+11</td>\n",
       "      <td>231646.0</td>\n",
       "      <td>1.944843e+11</td>\n",
       "      <td>18452.14</td>\n",
       "      <td>US Dollar</td>\n",
       "      <td>18452.14</td>\n",
       "      <td>US Dollar</td>\n",
       "      <td>ACH</td>\n",
       "      <td>1.0</td>\n",
       "      <td>2022.0</td>\n",
       "      <td>9.0</td>\n",
       "    </tr>\n",
       "    <tr>\n",
       "      <th>1247267</th>\n",
       "      <td>231646.0</td>\n",
       "      <td>5.773843e+11</td>\n",
       "      <td>28920.0</td>\n",
       "      <td>9.383246e+11</td>\n",
       "      <td>20180.27</td>\n",
       "      <td>US Dollar</td>\n",
       "      <td>20180.27</td>\n",
       "      <td>US Dollar</td>\n",
       "      <td>ACH</td>\n",
       "      <td>1.0</td>\n",
       "      <td>2022.0</td>\n",
       "      <td>9.0</td>\n",
       "    </tr>\n",
       "    <tr>\n",
       "      <th>1247268</th>\n",
       "      <td>28920.0</td>\n",
       "      <td>2.706355e+11</td>\n",
       "      <td>237063.0</td>\n",
       "      <td>6.453592e+11</td>\n",
       "      <td>19430.22</td>\n",
       "      <td>US Dollar</td>\n",
       "      <td>19430.22</td>\n",
       "      <td>US Dollar</td>\n",
       "      <td>ACH</td>\n",
       "      <td>1.0</td>\n",
       "      <td>2022.0</td>\n",
       "      <td>9.0</td>\n",
       "    </tr>\n",
       "    <tr>\n",
       "      <th>1247269</th>\n",
       "      <td>237063.0</td>\n",
       "      <td>5.314594e+11</td>\n",
       "      <td>192738.0</td>\n",
       "      <td>9.177097e+11</td>\n",
       "      <td>14808.76</td>\n",
       "      <td>UK Pound</td>\n",
       "      <td>14808.76</td>\n",
       "      <td>UK Pound</td>\n",
       "      <td>ACH</td>\n",
       "      <td>1.0</td>\n",
       "      <td>2022.0</td>\n",
       "      <td>9.0</td>\n",
       "    </tr>\n",
       "    <tr>\n",
       "      <th>1247270</th>\n",
       "      <td>192738.0</td>\n",
       "      <td>7.724497e+11</td>\n",
       "      <td>21954.0</td>\n",
       "      <td>1.632963e+11</td>\n",
       "      <td>18022.26</td>\n",
       "      <td>Euro</td>\n",
       "      <td>18022.26</td>\n",
       "      <td>Euro</td>\n",
       "      <td>ACH</td>\n",
       "      <td>1.0</td>\n",
       "      <td>2022.0</td>\n",
       "      <td>9.0</td>\n",
       "    </tr>\n",
       "  </tbody>\n",
       "</table>\n",
       "</div>"
      ],
      "text/plain": [
       "         From Bank       Account   To Bank  ...  Is Laundering    Year Month\n",
       "1247266        3.0  2.314647e+11  231646.0  ...            1.0  2022.0   9.0\n",
       "1247267   231646.0  5.773843e+11   28920.0  ...            1.0  2022.0   9.0\n",
       "1247268    28920.0  2.706355e+11  237063.0  ...            1.0  2022.0   9.0\n",
       "1247269   237063.0  5.314594e+11  192738.0  ...            1.0  2022.0   9.0\n",
       "1247270   192738.0  7.724497e+11   21954.0  ...            1.0  2022.0   9.0\n",
       "\n",
       "[5 rows x 12 columns]"
      ]
     },
     "execution_count": 14,
     "metadata": {},
     "output_type": "execute_result"
    }
   ],
   "source": [
    "data.tail()"
   ]
  },
  {
   "cell_type": "code",
   "execution_count": null,
   "metadata": {
    "application/vnd.databricks.v1+cell": {
     "cellMetadata": {
      "byteLimit": 2048000,
      "rowLimit": 10000
     },
     "inputWidgets": {},
     "nuid": "93a2d7c7-ba46-4132-9a69-1ac3a111b243",
     "showTitle": false,
     "title": ""
    },
    "colab": {
     "base_uri": "https://localhost:8080/"
    },
    "id": "QTWJ6GK8gICO",
    "outputId": "456d7be1-d0cd-4284-fbeb-06cc55752f8c"
   },
   "outputs": [
    {
     "data": {
      "text/plain": [
       "2"
      ]
     },
     "execution_count": 15,
     "metadata": {},
     "output_type": "execute_result"
    }
   ],
   "source": [
    "data['Year'].nunique()"
   ]
  },
  {
   "cell_type": "code",
   "execution_count": null,
   "metadata": {
    "application/vnd.databricks.v1+cell": {
     "cellMetadata": {
      "byteLimit": 2048000,
      "rowLimit": 10000
     },
     "inputWidgets": {},
     "nuid": "ae842ffb-2977-41f1-b91c-2692aa0a7629",
     "showTitle": false,
     "title": ""
    },
    "colab": {
     "base_uri": "https://localhost:8080/"
    },
    "id": "SH_N-SMdgH_Z",
    "outputId": "858d42df-7b37-480a-b362-5a4f39939d05"
   },
   "outputs": [
    {
     "data": {
      "text/plain": [
       "6"
      ]
     },
     "execution_count": 16,
     "metadata": {},
     "output_type": "execute_result"
    }
   ],
   "source": [
    "data['Month'].nunique()"
   ]
  },
  {
   "cell_type": "code",
   "execution_count": null,
   "metadata": {
    "application/vnd.databricks.v1+cell": {
     "cellMetadata": {
      "byteLimit": 2048000,
      "rowLimit": 10000
     },
     "inputWidgets": {},
     "nuid": "3840e518-c287-4b81-b768-3bb340ea19c2",
     "showTitle": false,
     "title": ""
    },
    "colab": {
     "base_uri": "https://localhost:8080/"
    },
    "id": "85Fb6PsJgH9D",
    "outputId": "3bb5263b-f914-43bd-cb1a-f1c6ecfe0ff3"
   },
   "outputs": [
    {
     "data": {
      "text/plain": [
       "15"
      ]
     },
     "execution_count": 17,
     "metadata": {},
     "output_type": "execute_result"
    }
   ],
   "source": [
    "data['Payment Currency'].nunique()"
   ]
  },
  {
   "cell_type": "code",
   "execution_count": null,
   "metadata": {
    "application/vnd.databricks.v1+cell": {
     "cellMetadata": {
      "byteLimit": 2048000,
      "rowLimit": 10000
     },
     "inputWidgets": {},
     "nuid": "d847d694-1a94-4389-8f56-de7203d463f1",
     "showTitle": false,
     "title": ""
    }
   },
   "outputs": [
    {
     "data": {
      "text/plain": [
       "7"
      ]
     },
     "execution_count": 18,
     "metadata": {},
     "output_type": "execute_result"
    }
   ],
   "source": [
    "data['Payment Format'].nunique()"
   ]
  },
  {
   "cell_type": "code",
   "execution_count": null,
   "metadata": {
    "application/vnd.databricks.v1+cell": {
     "cellMetadata": {
      "byteLimit": 2048000,
      "rowLimit": 10000
     },
     "inputWidgets": {},
     "nuid": "1157f51d-a150-42da-8f75-a59990c76c38",
     "showTitle": false,
     "title": ""
    }
   },
   "outputs": [
    {
     "name": "stdout",
     "output_type": "stream",
     "text": [
      "Number of unique values: 7\n",
      "Unique values: ['Credit Card' 'Cheque' 'Cash' 'ACH' 'Wire' 'Reinvestment' 'Bitcoin']\n"
     ]
    }
   ],
   "source": [
    "# Number of unique values in 'Payment Format'\n",
    "num_unique_values = data['Payment Format'].nunique()\n",
    "print(f\"Number of unique values: {num_unique_values}\")\n",
    "\n",
    "# Unique values in 'Payment Format'\n",
    "unique_values = data['Payment Format'].unique()\n",
    "print(f\"Unique values: {unique_values}\")\n"
   ]
  },
  {
   "cell_type": "code",
   "execution_count": null,
   "metadata": {
    "application/vnd.databricks.v1+cell": {
     "cellMetadata": {
      "byteLimit": 2048000,
      "rowLimit": 10000
     },
     "inputWidgets": {},
     "nuid": "b05716a2-c8d7-4058-8130-acfcdaab3d0b",
     "showTitle": false,
     "title": ""
    }
   },
   "outputs": [
    {
     "data": {
      "text/plain": [
       "15"
      ]
     },
     "execution_count": 20,
     "metadata": {},
     "output_type": "execute_result"
    }
   ],
   "source": [
    "data['Receiving Currency'].nunique()"
   ]
  },
  {
   "cell_type": "code",
   "execution_count": null,
   "metadata": {
    "application/vnd.databricks.v1+cell": {
     "cellMetadata": {
      "byteLimit": 2048000,
      "rowLimit": 10000
     },
     "inputWidgets": {},
     "nuid": "7ae00897-f1ad-47b3-81fc-def6be0a2a08",
     "showTitle": false,
     "title": ""
    }
   },
   "outputs": [
    {
     "data": {
      "text/plain": [
       "15"
      ]
     },
     "execution_count": 21,
     "metadata": {},
     "output_type": "execute_result"
    }
   ],
   "source": [
    "data['Payment Currency'].nunique()"
   ]
  },
  {
   "cell_type": "code",
   "execution_count": null,
   "metadata": {
    "application/vnd.databricks.v1+cell": {
     "cellMetadata": {
      "byteLimit": 2048000,
      "rowLimit": 10000
     },
     "inputWidgets": {},
     "nuid": "0ab96841-daf0-4767-a7db-91f030196314",
     "showTitle": false,
     "title": ""
    }
   },
   "outputs": [
    {
     "name": "stdout",
     "output_type": "stream",
     "text": [
      "Number of unique values: 15\n",
      "Unique values: ['Euro' 'US Dollar' 'Yuan' 'Yen' 'Rupee' 'Brazil Real' 'Mexican Peso'\n",
      " 'Shekel' 'Bitcoin' 'Ruble' 'Swiss Franc' 'UK Pound' 'Australian Dollar'\n",
      " 'Saudi Riyal' 'Canadian Dollar' None]\n"
     ]
    }
   ],
   "source": [
    "# Number of unique values in 'Payment Currency'\n",
    "num_unique_values = data['Payment Currency'].nunique()\n",
    "print(f\"Number of unique values: {num_unique_values}\")\n",
    "\n",
    "# Unique values in 'Payment Currency'\n",
    "unique_values = data['Payment Currency'].unique()\n",
    "print(f\"Unique values: {unique_values}\")\n"
   ]
  },
  {
   "cell_type": "code",
   "execution_count": null,
   "metadata": {
    "application/vnd.databricks.v1+cell": {
     "cellMetadata": {
      "byteLimit": 2048000,
      "rowLimit": 10000
     },
     "inputWidgets": {},
     "nuid": "7bce37cc-cf5a-498c-bb8c-de3465e09635",
     "showTitle": false,
     "title": ""
    },
    "colab": {
     "base_uri": "https://localhost:8080/",
     "height": 554
    },
    "id": "tISJ5nNwgHzf",
    "outputId": "aebe16b6-d17a-4494-9389-d96cc2476d4c"
   },
   "outputs": [
    {
     "data": {
      "text/plain": [
       "From Bank              200\n",
       "Account                450\n",
       "To Bank                100\n",
       "Account.1              175\n",
       "Amount Received         45\n",
       "Receiving Currency    1200\n",
       "Amount Paid           1350\n",
       "Payment Currency       800\n",
       "Payment Format           0\n",
       "Is Laundering            0\n",
       "Year                   700\n",
       "Month                  700\n",
       "dtype: int64"
      ]
     },
     "execution_count": 23,
     "metadata": {},
     "output_type": "execute_result"
    }
   ],
   "source": [
    "data.isnull().sum()"
   ]
  },
  {
   "cell_type": "code",
   "execution_count": null,
   "metadata": {
    "application/vnd.databricks.v1+cell": {
     "cellMetadata": {
      "byteLimit": 2048000,
      "rowLimit": 10000
     },
     "inputWidgets": {},
     "nuid": "71433680-a834-488c-a731-65182f7e6c6f",
     "showTitle": false,
     "title": ""
    }
   },
   "outputs": [],
   "source": [
    "data = data.dropna()"
   ]
  },
  {
   "cell_type": "code",
   "execution_count": null,
   "metadata": {
    "application/vnd.databricks.v1+cell": {
     "cellMetadata": {
      "byteLimit": 2048000,
      "rowLimit": 10000
     },
     "inputWidgets": {},
     "nuid": "f46d75c9-9829-4168-a12a-5eff19cfab76",
     "showTitle": false,
     "title": ""
    }
   },
   "outputs": [
    {
     "data": {
      "text/plain": [
       "From Bank             0\n",
       "Account               0\n",
       "To Bank               0\n",
       "Account.1             0\n",
       "Amount Received       0\n",
       "Receiving Currency    0\n",
       "Amount Paid           0\n",
       "Payment Currency      0\n",
       "Payment Format        0\n",
       "Is Laundering         0\n",
       "Year                  0\n",
       "Month                 0\n",
       "dtype: int64"
      ]
     },
     "execution_count": 25,
     "metadata": {},
     "output_type": "execute_result"
    }
   ],
   "source": [
    "data.isnull().sum()"
   ]
  },
  {
   "cell_type": "code",
   "execution_count": null,
   "metadata": {
    "application/vnd.databricks.v1+cell": {
     "cellMetadata": {
      "byteLimit": 2048000,
      "rowLimit": 10000
     },
     "inputWidgets": {},
     "nuid": "5c8bb185-7451-4f87-859d-6620189aaac6",
     "showTitle": false,
     "title": ""
    },
    "colab": {
     "base_uri": "https://localhost:8080/"
    },
    "id": "np4smg9FT-Hm",
    "outputId": "f7986f2c-3d5e-4227-af9f-037406a57043"
   },
   "outputs": [
    {
     "name": "stdout",
     "output_type": "stream",
     "text": [
      "<class 'pandas.core.frame.DataFrame'>\n",
      "Int64Index: 1242260 entries, 0 to 1247270\n",
      "Data columns (total 12 columns):\n",
      " #   Column              Non-Null Count    Dtype  \n",
      "---  ------              --------------    -----  \n",
      " 0   From Bank           1242260 non-null  float64\n",
      " 1   Account             1242260 non-null  float64\n",
      " 2   To Bank             1242260 non-null  float64\n",
      " 3   Account.1           1242260 non-null  float64\n",
      " 4   Amount Received     1242260 non-null  float64\n",
      " 5   Receiving Currency  1242260 non-null  object \n",
      " 6   Amount Paid         1242260 non-null  float64\n",
      " 7   Payment Currency    1242260 non-null  object \n",
      " 8   Payment Format      1242260 non-null  object \n",
      " 9   Is Laundering       1242260 non-null  float64\n",
      " 10  Year                1242260 non-null  float64\n",
      " 11  Month               1242260 non-null  float64\n",
      "dtypes: float64(9), object(3)\n",
      "memory usage: 123.2+ MB\n"
     ]
    }
   ],
   "source": [
    "data.info()"
   ]
  },
  {
   "cell_type": "code",
   "execution_count": null,
   "metadata": {
    "application/vnd.databricks.v1+cell": {
     "cellMetadata": {
      "byteLimit": 2048000,
      "rowLimit": 10000
     },
     "inputWidgets": {},
     "nuid": "d10b1ff4-1dad-461c-853a-81d792e3b182",
     "showTitle": false,
     "title": ""
    },
    "colab": {
     "base_uri": "https://localhost:8080/"
    },
    "id": "UpesX8yvbHl9",
    "outputId": "f4ad6654-649f-47c4-eae7-fd9cadd37849"
   },
   "outputs": [
    {
     "name": "stdout",
     "output_type": "stream",
     "text": [
      "Numerical Variables: ['From Bank', 'Account', 'To Bank', 'Account.1', 'Amount Received', 'Amount Paid', 'Is Laundering', 'Year', 'Month']\n"
     ]
    }
   ],
   "source": [
    "# Identify numerical variables in the dataset\n",
    "num_vars = data.select_dtypes(include=['number']).columns.tolist()\n",
    "\n",
    "# Print the list of numerical variables\n",
    "print(\"Numerical Variables:\", num_vars)\n"
   ]
  },
  {
   "cell_type": "code",
   "execution_count": null,
   "metadata": {
    "application/vnd.databricks.v1+cell": {
     "cellMetadata": {
      "byteLimit": 2048000,
      "rowLimit": 10000
     },
     "inputWidgets": {},
     "nuid": "ba00b361-ae0f-4d5d-be10-85e9182c7a54",
     "showTitle": false,
     "title": ""
    },
    "colab": {
     "base_uri": "https://localhost:8080/"
    },
    "id": "cTAiypWYbiEk",
    "outputId": "a7ace7bb-42e7-4132-80d6-bfab07fd1c0d"
   },
   "outputs": [
    {
     "name": "stdout",
     "output_type": "stream",
     "text": [
      "Categorical Variables: ['Receiving Currency', 'Payment Currency', 'Payment Format']\n"
     ]
    }
   ],
   "source": [
    "# Identify categorical variables in the dataset\n",
    "cat_vars = data.select_dtypes(include=['object', 'category']).columns.tolist()\n",
    "\n",
    "# Print the list of categorical variables\n",
    "print(\"Categorical Variables:\", cat_vars)"
   ]
  },
  {
   "cell_type": "code",
   "execution_count": null,
   "metadata": {
    "application/vnd.databricks.v1+cell": {
     "cellMetadata": {
      "byteLimit": 2048000,
      "rowLimit": 10000
     },
     "inputWidgets": {},
     "nuid": "544f500b-4bb4-4166-8ff4-e6413c97521e",
     "showTitle": false,
     "title": ""
    },
    "id": "fR_DMgLjVxsC"
   },
   "outputs": [],
   "source": [
    "# Encode categorical features\n",
    "label_encoders = {}\n",
    "for feature in cat_vars:\n",
    "  le = LabelEncoder()\n",
    "  data[feature] = le.fit_transform(data[feature])\n",
    "  label_encoders[feature] = le"
   ]
  },
  {
   "cell_type": "code",
   "execution_count": null,
   "metadata": {
    "application/vnd.databricks.v1+cell": {
     "cellMetadata": {
      "byteLimit": 2048000,
      "rowLimit": 10000
     },
     "inputWidgets": {},
     "nuid": "1742fa80-7d2f-41f0-9823-c7a75af47722",
     "showTitle": false,
     "title": ""
    },
    "colab": {
     "base_uri": "https://localhost:8080/"
    },
    "id": "QEIB83tMWtOB",
    "outputId": "6695e030-11f7-48c0-c1fc-2b4b48f8c392"
   },
   "outputs": [
    {
     "name": "stdout",
     "output_type": "stream",
     "text": [
      "         From Bank   Account   To Bank  ...  Amount Paid      Year     Month\n",
      "414484   -0.424917  0.847065 -0.256784  ...    -0.003898 -0.011827 -0.183553\n",
      "283252   -0.207499  0.798564 -0.491576  ...    -0.003898 -0.011827 -0.183553\n",
      "364698   -0.011783  0.948760  3.381191  ...    -0.003898 -0.011827 -0.183553\n",
      "1158049  -0.404236 -0.100471 -0.489027  ...    -0.003898 -0.011827  2.084938\n",
      "1170099  -0.375775 -0.574586 -0.519038  ...    -0.003898 -0.011827  2.084938\n",
      "\n",
      "[5 rows x 8 columns]\n"
     ]
    }
   ],
   "source": [
    "from sklearn.preprocessing import StandardScaler\n",
    "from sklearn.model_selection import train_test_split\n",
    "\n",
    "# Define features and target variable\n",
    "X = data[['From Bank', 'Account', 'To Bank', 'Account.1', 'Amount Received',\n",
    "          'Amount Paid', 'Year', 'Month']]\n",
    "y = data['Is Laundering']\n",
    "\n",
    "# Split the data into training and testing sets\n",
    "X_train, X_test, y_train, y_test = train_test_split(X, y, test_size=0.2, random_state=42)\n",
    "\n",
    "# List of numerical variables (excluding the target variable)\n",
    "num_vars = ['From Bank', 'Account', 'To Bank', 'Account.1', 'Amount Received',\n",
    "            'Amount Paid', 'Year', 'Month', 'Day']\n",
    "\n",
    "# Ensure the columns exist in the DataFrame\n",
    "num_vars_train = [col for col in num_vars if col in X_train.columns]\n",
    "num_vars_test = [col for col in num_vars if col in X_test.columns]\n",
    "\n",
    "# Initialize the scaler\n",
    "scaler = StandardScaler()\n",
    "\n",
    "# Standardize numerical features present in both X_train and X_test\n",
    "if num_vars_train:\n",
    "    X_train[num_vars_train] = scaler.fit_transform(X_train[num_vars_train])\n",
    "if num_vars_test:\n",
    "    X_test[num_vars_test] = scaler.transform(X_test[num_vars_test])\n",
    "\n",
    "# Display the first few rows of the standardized training data\n",
    "print(X_train.head())\n"
   ]
  },
  {
   "cell_type": "code",
   "execution_count": null,
   "metadata": {
    "application/vnd.databricks.v1+cell": {
     "cellMetadata": {
      "byteLimit": 2048000,
      "rowLimit": 10000
     },
     "inputWidgets": {},
     "nuid": "86a03e59-9229-49dd-ac27-7ff09577cc30",
     "showTitle": false,
     "title": ""
    },
    "colab": {
     "base_uri": "https://localhost:8080/"
    },
    "id": "KfjyUIDlYQD-",
    "outputId": "1e51aee4-1670-4645-d123-2754e89b2046"
   },
   "outputs": [
    {
     "name": "stdout",
     "output_type": "stream",
     "text": [
      "Label encoders have been saved to 'label_encoders.pkl'\n"
     ]
    }
   ],
   "source": [
    "import pickle\n",
    "# Save the label encoders to a pickle file\n",
    "with open('label_encoders.pkl', 'wb') as f:\n",
    "    pickle.dump(label_encoders, f)\n",
    "\n",
    "print(\"Label encoders have been saved to 'label_encoders.pkl'\")\n"
   ]
  },
  {
   "cell_type": "code",
   "execution_count": null,
   "metadata": {
    "application/vnd.databricks.v1+cell": {
     "cellMetadata": {
      "byteLimit": 2048000,
      "rowLimit": 10000
     },
     "inputWidgets": {},
     "nuid": "d7a04362-ceff-4e62-89a8-b591454492c2",
     "showTitle": false,
     "title": ""
    },
    "colab": {
     "base_uri": "https://localhost:8080/"
    },
    "id": "B5eSXjTLZhlY",
    "outputId": "7e65773e-66b9-4f34-d96a-302ab7b98a0e"
   },
   "outputs": [
    {
     "name": "stdout",
     "output_type": "stream",
     "text": [
      "Scaler has been saved to 'scaler.pkl'\n"
     ]
    }
   ],
   "source": [
    "import pickle\n",
    "\n",
    "# Save the scaler to a pickle file\n",
    "with open('scaler.pkl', 'wb') as f:\n",
    "    pickle.dump(scaler, f)\n",
    "\n",
    "print(\"Scaler has been saved to 'scaler.pkl'\")\n"
   ]
  },
  {
   "cell_type": "code",
   "execution_count": null,
   "metadata": {
    "application/vnd.databricks.v1+cell": {
     "cellMetadata": {
      "byteLimit": 2048000,
      "rowLimit": 10000
     },
     "inputWidgets": {},
     "nuid": "c072eff0-2de6-47e8-8cf3-ede30725b38f",
     "showTitle": false,
     "title": ""
    },
    "colab": {
     "base_uri": "https://localhost:8080/"
    },
    "id": "RJd6uyA-Nv-F",
    "outputId": "c7baf0ae-0675-419e-c4d2-c442cc9bea5e"
   },
   "outputs": [
    {
     "name": "stdout",
     "output_type": "stream",
     "text": [
      "<class 'pandas.core.frame.DataFrame'>\n",
      "Int64Index: 1242260 entries, 0 to 1247270\n",
      "Data columns (total 12 columns):\n",
      " #   Column              Non-Null Count    Dtype  \n",
      "---  ------              --------------    -----  \n",
      " 0   From Bank           1242260 non-null  float64\n",
      " 1   Account             1242260 non-null  float64\n",
      " 2   To Bank             1242260 non-null  float64\n",
      " 3   Account.1           1242260 non-null  float64\n",
      " 4   Amount Received     1242260 non-null  float64\n",
      " 5   Receiving Currency  1242260 non-null  int64  \n",
      " 6   Amount Paid         1242260 non-null  float64\n",
      " 7   Payment Currency    1242260 non-null  int64  \n",
      " 8   Payment Format      1242260 non-null  int64  \n",
      " 9   Is Laundering       1242260 non-null  float64\n",
      " 10  Year                1242260 non-null  float64\n",
      " 11  Month               1242260 non-null  float64\n",
      "dtypes: float64(9), int64(3)\n",
      "memory usage: 123.2 MB\n"
     ]
    }
   ],
   "source": [
    "data.info()"
   ]
  },
  {
   "cell_type": "code",
   "execution_count": null,
   "metadata": {
    "application/vnd.databricks.v1+cell": {
     "cellMetadata": {
      "byteLimit": 2048000,
      "rowLimit": 10000
     },
     "inputWidgets": {},
     "nuid": "a7374938-d13d-4af6-81e1-161476dc8167",
     "showTitle": false,
     "title": ""
    },
    "colab": {
     "base_uri": "https://localhost:8080/",
     "height": 206
    },
    "id": "qZ-b64r5gHvh",
    "outputId": "1674ab59-b722-467e-a9cc-17a1664dc0db"
   },
   "outputs": [
    {
     "data": {
      "text/html": [
       "<div>\n",
       "<style scoped>\n",
       "    .dataframe tbody tr th:only-of-type {\n",
       "        vertical-align: middle;\n",
       "    }\n",
       "\n",
       "    .dataframe tbody tr th {\n",
       "        vertical-align: top;\n",
       "    }\n",
       "\n",
       "    .dataframe thead th {\n",
       "        text-align: right;\n",
       "    }\n",
       "</style>\n",
       "<table border=\"1\" class=\"dataframe\">\n",
       "  <thead>\n",
       "    <tr style=\"text-align: right;\">\n",
       "      <th></th>\n",
       "      <th>From Bank</th>\n",
       "      <th>Account</th>\n",
       "      <th>To Bank</th>\n",
       "      <th>Account.1</th>\n",
       "      <th>Amount Received</th>\n",
       "      <th>Receiving Currency</th>\n",
       "      <th>Amount Paid</th>\n",
       "      <th>Payment Currency</th>\n",
       "      <th>Payment Format</th>\n",
       "      <th>Is Laundering</th>\n",
       "      <th>Year</th>\n",
       "      <th>Month</th>\n",
       "    </tr>\n",
       "  </thead>\n",
       "  <tbody>\n",
       "    <tr>\n",
       "      <th>0</th>\n",
       "      <td>22483.0</td>\n",
       "      <td>3.961980e+11</td>\n",
       "      <td>2122502.0</td>\n",
       "      <td>6.852244e+11</td>\n",
       "      <td>13839.26</td>\n",
       "      <td>4</td>\n",
       "      <td>13839.26</td>\n",
       "      <td>4</td>\n",
       "      <td>4</td>\n",
       "      <td>0.0</td>\n",
       "      <td>2022.0</td>\n",
       "      <td>9.0</td>\n",
       "    </tr>\n",
       "    <tr>\n",
       "      <th>1</th>\n",
       "      <td>110968.0</td>\n",
       "      <td>6.919754e+11</td>\n",
       "      <td>286299.0</td>\n",
       "      <td>1.140869e+11</td>\n",
       "      <td>637.56</td>\n",
       "      <td>12</td>\n",
       "      <td>637.56</td>\n",
       "      <td>12</td>\n",
       "      <td>3</td>\n",
       "      <td>0.0</td>\n",
       "      <td>2022.0</td>\n",
       "      <td>9.0</td>\n",
       "    </tr>\n",
       "    <tr>\n",
       "      <th>2</th>\n",
       "      <td>70.0</td>\n",
       "      <td>9.792510e+11</td>\n",
       "      <td>283504.0</td>\n",
       "      <td>9.556925e+11</td>\n",
       "      <td>153.17</td>\n",
       "      <td>12</td>\n",
       "      <td>153.17</td>\n",
       "      <td>12</td>\n",
       "      <td>2</td>\n",
       "      <td>0.0</td>\n",
       "      <td>2022.0</td>\n",
       "      <td>9.0</td>\n",
       "    </tr>\n",
       "    <tr>\n",
       "      <th>3</th>\n",
       "      <td>25.0</td>\n",
       "      <td>7.145868e+11</td>\n",
       "      <td>130142.0</td>\n",
       "      <td>9.409780e+11</td>\n",
       "      <td>14724.68</td>\n",
       "      <td>14</td>\n",
       "      <td>14724.68</td>\n",
       "      <td>14</td>\n",
       "      <td>4</td>\n",
       "      <td>0.0</td>\n",
       "      <td>2022.0</td>\n",
       "      <td>9.0</td>\n",
       "    </tr>\n",
       "    <tr>\n",
       "      <th>4</th>\n",
       "      <td>1315.0</td>\n",
       "      <td>1.605006e+11</td>\n",
       "      <td>122138.0</td>\n",
       "      <td>3.288542e+11</td>\n",
       "      <td>50080.79</td>\n",
       "      <td>12</td>\n",
       "      <td>50080.79</td>\n",
       "      <td>12</td>\n",
       "      <td>3</td>\n",
       "      <td>0.0</td>\n",
       "      <td>2022.0</td>\n",
       "      <td>9.0</td>\n",
       "    </tr>\n",
       "  </tbody>\n",
       "</table>\n",
       "</div>"
      ],
      "text/plain": [
       "   From Bank       Account    To Bank  ...  Is Laundering    Year  Month\n",
       "0    22483.0  3.961980e+11  2122502.0  ...            0.0  2022.0    9.0\n",
       "1   110968.0  6.919754e+11   286299.0  ...            0.0  2022.0    9.0\n",
       "2       70.0  9.792510e+11   283504.0  ...            0.0  2022.0    9.0\n",
       "3       25.0  7.145868e+11   130142.0  ...            0.0  2022.0    9.0\n",
       "4     1315.0  1.605006e+11   122138.0  ...            0.0  2022.0    9.0\n",
       "\n",
       "[5 rows x 12 columns]"
      ]
     },
     "execution_count": 34,
     "metadata": {},
     "output_type": "execute_result"
    }
   ],
   "source": [
    "data.head()"
   ]
  },
  {
   "cell_type": "code",
   "execution_count": null,
   "metadata": {
    "application/vnd.databricks.v1+cell": {
     "cellMetadata": {
      "byteLimit": 2048000,
      "rowLimit": 10000
     },
     "inputWidgets": {},
     "nuid": "74014f06-e9f6-43f3-9db1-1292c0f7480f",
     "showTitle": false,
     "title": ""
    },
    "colab": {
     "base_uri": "https://localhost:8080/"
    },
    "id": "4OEkkZapgqYJ",
    "outputId": "605c6c65-53e1-4877-ed3d-d1a5b26074de"
   },
   "outputs": [
    {
     "data": {
      "text/plain": [
       "(1242260, 12)"
      ]
     },
     "execution_count": 35,
     "metadata": {},
     "output_type": "execute_result"
    }
   ],
   "source": [
    "data.shape"
   ]
  },
  {
   "cell_type": "code",
   "execution_count": null,
   "metadata": {
    "application/vnd.databricks.v1+cell": {
     "cellMetadata": {
      "byteLimit": 2048000,
      "rowLimit": 10000
     },
     "inputWidgets": {},
     "nuid": "bac20ad8-3f4d-47cc-8611-abedf3d60dd8",
     "showTitle": false,
     "title": ""
    },
    "colab": {
     "base_uri": "https://localhost:8080/",
     "height": 564
    },
    "id": "wCPehj9fgqQh",
    "outputId": "a21c1b1d-23c6-40d0-cec7-35a1a12291f5"
   },
   "outputs": [
    {
     "data": {
      "image/png": "[encoded data removed]",
      "text/plain": [
       "<Figure size 1200x600 with 2 Axes>"
      ]
     },
     "metadata": {},
     "output_type": "display_data"
    }
   ],
   "source": [
    "plt.figure(figsize=(12, 6))\n",
    "\n",
    "plt.subplot(1, 2, 1)\n",
    "sns.boxplot(x=data['Amount Paid'])\n",
    "plt.title('Box Plot for Amount Paid')\n",
    "\n",
    "plt.subplot(1, 2, 2)\n",
    "sns.boxplot(x=data['Amount Received'])\n",
    "plt.title('Box Plot for Amount Received')\n",
    "\n",
    "plt.show()"
   ]
  },
  {
   "cell_type": "code",
   "execution_count": null,
   "metadata": {
    "application/vnd.databricks.v1+cell": {
     "cellMetadata": {
      "byteLimit": 2048000,
      "rowLimit": 10000
     },
     "inputWidgets": {},
     "nuid": "1a71afcd-5a24-4512-9100-dbe688c002e6",
     "showTitle": false,
     "title": ""
    },
    "id": "zRoNIyqAgqH2"
   },
   "outputs": [],
   "source": [
    "from imblearn.under_sampling import RandomUnderSampler\n",
    "from sklearn.model_selection import train_test_split\n",
    "\n",
    "X = data[['Amount Received', 'Amount Paid', 'Payment Format','Year','Month','Receiving Currency','Payment Currency']]\n",
    "y = data['Is Laundering']\n",
    "\n",
    "# Split the data\n",
    "X_train, X_test, y_train, y_test = train_test_split(X, y, test_size=0.2, random_state=42)\n",
    "\n",
    "# Initialize the RandomUnderSampler\n",
    "rus = RandomUnderSampler(random_state=42)\n",
    "\n",
    "# Apply under-sampling\n",
    "X_train_resampled, y_train_resampled = rus.fit_resample(X_train, y_train)\n",
    "\n",
    "# Now, X_train_resampled and y_train_resampled are balanced"
   ]
  },
  {
   "cell_type": "code",
   "execution_count": null,
   "metadata": {
    "application/vnd.databricks.v1+cell": {
     "cellMetadata": {
      "byteLimit": 2048000,
      "rowLimit": 10000
     },
     "inputWidgets": {},
     "nuid": "262aa09c-c77e-45c7-9791-e824901c0b17",
     "showTitle": false,
     "title": ""
    },
    "colab": {
     "base_uri": "https://localhost:8080/",
     "height": 206
    },
    "id": "AhzDIrtLgqF3",
    "outputId": "b3c2fda0-4138-4e85-e780-4c3a8303d2a1"
   },
   "outputs": [
    {
     "data": {
      "text/html": [
       "<div>\n",
       "<style scoped>\n",
       "    .dataframe tbody tr th:only-of-type {\n",
       "        vertical-align: middle;\n",
       "    }\n",
       "\n",
       "    .dataframe tbody tr th {\n",
       "        vertical-align: top;\n",
       "    }\n",
       "\n",
       "    .dataframe thead th {\n",
       "        text-align: right;\n",
       "    }\n",
       "</style>\n",
       "<table border=\"1\" class=\"dataframe\">\n",
       "  <thead>\n",
       "    <tr style=\"text-align: right;\">\n",
       "      <th></th>\n",
       "      <th>From Bank</th>\n",
       "      <th>Account</th>\n",
       "      <th>To Bank</th>\n",
       "      <th>Account.1</th>\n",
       "      <th>Amount Received</th>\n",
       "      <th>Receiving Currency</th>\n",
       "      <th>Amount Paid</th>\n",
       "      <th>Payment Currency</th>\n",
       "      <th>Payment Format</th>\n",
       "      <th>Is Laundering</th>\n",
       "      <th>Year</th>\n",
       "      <th>Month</th>\n",
       "    </tr>\n",
       "  </thead>\n",
       "  <tbody>\n",
       "    <tr>\n",
       "      <th>0</th>\n",
       "      <td>22483.0</td>\n",
       "      <td>3.961980e+11</td>\n",
       "      <td>2122502.0</td>\n",
       "      <td>6.852244e+11</td>\n",
       "      <td>13839.26</td>\n",
       "      <td>4</td>\n",
       "      <td>13839.26</td>\n",
       "      <td>4</td>\n",
       "      <td>4</td>\n",
       "      <td>0.0</td>\n",
       "      <td>2022.0</td>\n",
       "      <td>9.0</td>\n",
       "    </tr>\n",
       "    <tr>\n",
       "      <th>1</th>\n",
       "      <td>110968.0</td>\n",
       "      <td>6.919754e+11</td>\n",
       "      <td>286299.0</td>\n",
       "      <td>1.140869e+11</td>\n",
       "      <td>637.56</td>\n",
       "      <td>12</td>\n",
       "      <td>637.56</td>\n",
       "      <td>12</td>\n",
       "      <td>3</td>\n",
       "      <td>0.0</td>\n",
       "      <td>2022.0</td>\n",
       "      <td>9.0</td>\n",
       "    </tr>\n",
       "    <tr>\n",
       "      <th>2</th>\n",
       "      <td>70.0</td>\n",
       "      <td>9.792510e+11</td>\n",
       "      <td>283504.0</td>\n",
       "      <td>9.556925e+11</td>\n",
       "      <td>153.17</td>\n",
       "      <td>12</td>\n",
       "      <td>153.17</td>\n",
       "      <td>12</td>\n",
       "      <td>2</td>\n",
       "      <td>0.0</td>\n",
       "      <td>2022.0</td>\n",
       "      <td>9.0</td>\n",
       "    </tr>\n",
       "    <tr>\n",
       "      <th>3</th>\n",
       "      <td>25.0</td>\n",
       "      <td>7.145868e+11</td>\n",
       "      <td>130142.0</td>\n",
       "      <td>9.409780e+11</td>\n",
       "      <td>14724.68</td>\n",
       "      <td>14</td>\n",
       "      <td>14724.68</td>\n",
       "      <td>14</td>\n",
       "      <td>4</td>\n",
       "      <td>0.0</td>\n",
       "      <td>2022.0</td>\n",
       "      <td>9.0</td>\n",
       "    </tr>\n",
       "    <tr>\n",
       "      <th>4</th>\n",
       "      <td>1315.0</td>\n",
       "      <td>1.605006e+11</td>\n",
       "      <td>122138.0</td>\n",
       "      <td>3.288542e+11</td>\n",
       "      <td>50080.79</td>\n",
       "      <td>12</td>\n",
       "      <td>50080.79</td>\n",
       "      <td>12</td>\n",
       "      <td>3</td>\n",
       "      <td>0.0</td>\n",
       "      <td>2022.0</td>\n",
       "      <td>9.0</td>\n",
       "    </tr>\n",
       "  </tbody>\n",
       "</table>\n",
       "</div>"
      ],
      "text/plain": [
       "   From Bank       Account    To Bank  ...  Is Laundering    Year  Month\n",
       "0    22483.0  3.961980e+11  2122502.0  ...            0.0  2022.0    9.0\n",
       "1   110968.0  6.919754e+11   286299.0  ...            0.0  2022.0    9.0\n",
       "2       70.0  9.792510e+11   283504.0  ...            0.0  2022.0    9.0\n",
       "3       25.0  7.145868e+11   130142.0  ...            0.0  2022.0    9.0\n",
       "4     1315.0  1.605006e+11   122138.0  ...            0.0  2022.0    9.0\n",
       "\n",
       "[5 rows x 12 columns]"
      ]
     },
     "execution_count": 40,
     "metadata": {},
     "output_type": "execute_result"
    }
   ],
   "source": [
    "data.head()"
   ]
  },
  {
   "cell_type": "code",
   "execution_count": null,
   "metadata": {
    "application/vnd.databricks.v1+cell": {
     "cellMetadata": {
      "byteLimit": 2048000,
      "rowLimit": 10000
     },
     "inputWidgets": {},
     "nuid": "c4ceaa59-2d5f-4446-94a3-84488bc5602f",
     "showTitle": false,
     "title": ""
    },
    "colab": {
     "base_uri": "https://localhost:8080/"
    },
    "id": "eNVeQ8KJfQ9t",
    "outputId": "c4a034af-5403-49b4-949a-2765a1600fcc"
   },
   "outputs": [
    {
     "data": {
      "text/plain": [
       "array([ 4, 12, 14, 13,  7,  2,  5,  9,  1,  6, 10, 11,  0,  8,  3])"
      ]
     },
     "execution_count": 41,
     "metadata": {},
     "output_type": "execute_result"
    }
   ],
   "source": [
    "data['Receiving Currency'].unique()"
   ]
  },
  {
   "cell_type": "code",
   "execution_count": null,
   "metadata": {
    "application/vnd.databricks.v1+cell": {
     "cellMetadata": {
      "byteLimit": 2048000,
      "rowLimit": 10000
     },
     "inputWidgets": {},
     "nuid": "b04e5610-a0d4-4d87-9525-2f71e42ccbcb",
     "showTitle": false,
     "title": ""
    },
    "id": "TDavcoPRg4aW"
   },
   "outputs": [],
   "source": [
    "from sklearn.preprocessing import StandardScaler\n",
    "\n",
    "# Initialize the StandardScaler\n",
    "scaler = StandardScaler()\n",
    "\n",
    "# Apply standardization to 'Amount Received' and 'Amount Paid' columns\n",
    "data[['Amount Received', 'Amount Paid']] = scaler.fit_transform(data[['Amount Received', 'Amount Paid']])\n",
    "\n",
    "# Now data has the standardized 'Amount Received' and 'Amount Paid' columns\n"
   ]
  },
  {
   "cell_type": "code",
   "execution_count": null,
   "metadata": {
    "application/vnd.databricks.v1+cell": {
     "cellMetadata": {
      "byteLimit": 2048000,
      "rowLimit": 10000
     },
     "inputWidgets": {},
     "nuid": "8e3477ce-780c-4190-8468-2d6936052199",
     "showTitle": false,
     "title": ""
    },
    "colab": {
     "base_uri": "https://localhost:8080/",
     "height": 491
    },
    "id": "FRG6thITg4X5",
    "outputId": "9426d896-47c3-43e6-a242-1cbaa4380b88"
   },
   "outputs": [
    {
     "data": {
      "text/plain": [
       "From Bank             float64\n",
       "Account               float64\n",
       "To Bank               float64\n",
       "Account.1             float64\n",
       "Amount Received       float64\n",
       "Receiving Currency      int64\n",
       "Amount Paid           float64\n",
       "Payment Currency        int64\n",
       "Payment Format          int64\n",
       "Is Laundering         float64\n",
       "Year                  float64\n",
       "Month                 float64\n",
       "dtype: object"
      ]
     },
     "execution_count": 43,
     "metadata": {},
     "output_type": "execute_result"
    }
   ],
   "source": [
    "data.dtypes"
   ]
  },
  {
   "cell_type": "code",
   "execution_count": null,
   "metadata": {
    "application/vnd.databricks.v1+cell": {
     "cellMetadata": {
      "byteLimit": 2048000,
      "rowLimit": 10000
     },
     "inputWidgets": {},
     "nuid": "27e87c96-654d-418e-942e-511beecc9eea",
     "showTitle": false,
     "title": ""
    },
    "colab": {
     "base_uri": "https://localhost:8080/",
     "height": 457
    },
    "id": "uvNZReClg5d4",
    "outputId": "0c1663fa-365c-4d27-dcee-9360f52e5854"
   },
   "outputs": [
    {
     "data": {
      "text/html": [
       "<div>\n",
       "<style scoped>\n",
       "    .dataframe tbody tr th:only-of-type {\n",
       "        vertical-align: middle;\n",
       "    }\n",
       "\n",
       "    .dataframe tbody tr th {\n",
       "        vertical-align: top;\n",
       "    }\n",
       "\n",
       "    .dataframe thead th {\n",
       "        text-align: right;\n",
       "    }\n",
       "</style>\n",
       "<table border=\"1\" class=\"dataframe\">\n",
       "  <thead>\n",
       "    <tr style=\"text-align: right;\">\n",
       "      <th></th>\n",
       "      <th>count</th>\n",
       "      <th>mean</th>\n",
       "      <th>std</th>\n",
       "      <th>min</th>\n",
       "      <th>25%</th>\n",
       "      <th>50%</th>\n",
       "      <th>75%</th>\n",
       "      <th>max</th>\n",
       "    </tr>\n",
       "  </thead>\n",
       "  <tbody>\n",
       "    <tr>\n",
       "      <th>From Bank</th>\n",
       "      <td>1242260.0</td>\n",
       "      <td>2.213140e+05</td>\n",
       "      <td>5.203824e+05</td>\n",
       "      <td>0.000000e+00</td>\n",
       "      <td>1.994000e+03</td>\n",
       "      <td>2.670400e+04</td>\n",
       "      <td>1.872640e+05</td>\n",
       "      <td>3.225444e+06</td>\n",
       "    </tr>\n",
       "    <tr>\n",
       "      <th>Account</th>\n",
       "      <td>1242260.0</td>\n",
       "      <td>5.632118e+11</td>\n",
       "      <td>2.643637e+11</td>\n",
       "      <td>1.000003e+11</td>\n",
       "      <td>3.335457e+11</td>\n",
       "      <td>5.678679e+11</td>\n",
       "      <td>7.907024e+11</td>\n",
       "      <td>9.999989e+11</td>\n",
       "    </tr>\n",
       "    <tr>\n",
       "      <th>To Bank</th>\n",
       "      <td>1242260.0</td>\n",
       "      <td>3.047346e+05</td>\n",
       "      <td>5.642355e+05</td>\n",
       "      <td>0.000000e+00</td>\n",
       "      <td>1.808100e+04</td>\n",
       "      <td>1.181590e+05</td>\n",
       "      <td>2.256640e+05</td>\n",
       "      <td>3.224991e+06</td>\n",
       "    </tr>\n",
       "    <tr>\n",
       "      <th>Account.1</th>\n",
       "      <td>1242260.0</td>\n",
       "      <td>5.501964e+11</td>\n",
       "      <td>2.598592e+11</td>\n",
       "      <td>1.000001e+11</td>\n",
       "      <td>3.250580e+11</td>\n",
       "      <td>5.504987e+11</td>\n",
       "      <td>7.755970e+11</td>\n",
       "      <td>9.999996e+11</td>\n",
       "    </tr>\n",
       "    <tr>\n",
       "      <th>Amount Received</th>\n",
       "      <td>1242260.0</td>\n",
       "      <td>-7.206896e-19</td>\n",
       "      <td>1.000000e+00</td>\n",
       "      <td>-3.549057e-03</td>\n",
       "      <td>-3.549010e-03</td>\n",
       "      <td>-3.548656e-03</td>\n",
       "      <td>-3.546822e-03</td>\n",
       "      <td>7.791197e+02</td>\n",
       "    </tr>\n",
       "    <tr>\n",
       "      <th>Receiving Currency</th>\n",
       "      <td>1242260.0</td>\n",
       "      <td>8.466485e+00</td>\n",
       "      <td>4.213789e+00</td>\n",
       "      <td>0.000000e+00</td>\n",
       "      <td>4.000000e+00</td>\n",
       "      <td>1.100000e+01</td>\n",
       "      <td>1.200000e+01</td>\n",
       "      <td>1.400000e+01</td>\n",
       "    </tr>\n",
       "    <tr>\n",
       "      <th>Amount Paid</th>\n",
       "      <td>1242260.0</td>\n",
       "      <td>4.747400e-19</td>\n",
       "      <td>1.000000e+00</td>\n",
       "      <td>-3.396995e-03</td>\n",
       "      <td>-3.396948e-03</td>\n",
       "      <td>-3.396594e-03</td>\n",
       "      <td>-3.394764e-03</td>\n",
       "      <td>7.800806e+02</td>\n",
       "    </tr>\n",
       "    <tr>\n",
       "      <th>Payment Currency</th>\n",
       "      <td>1242260.0</td>\n",
       "      <td>8.489498e+00</td>\n",
       "      <td>4.212017e+00</td>\n",
       "      <td>0.000000e+00</td>\n",
       "      <td>4.000000e+00</td>\n",
       "      <td>1.100000e+01</td>\n",
       "      <td>1.200000e+01</td>\n",
       "      <td>1.400000e+01</td>\n",
       "    </tr>\n",
       "    <tr>\n",
       "      <th>Payment Format</th>\n",
       "      <td>1242260.0</td>\n",
       "      <td>2.435311e+00</td>\n",
       "      <td>1.760477e+00</td>\n",
       "      <td>0.000000e+00</td>\n",
       "      <td>0.000000e+00</td>\n",
       "      <td>3.000000e+00</td>\n",
       "      <td>4.000000e+00</td>\n",
       "      <td>6.000000e+00</td>\n",
       "    </tr>\n",
       "    <tr>\n",
       "      <th>Is Laundering</th>\n",
       "      <td>1242260.0</td>\n",
       "      <td>1.982580e-01</td>\n",
       "      <td>3.986877e-01</td>\n",
       "      <td>0.000000e+00</td>\n",
       "      <td>0.000000e+00</td>\n",
       "      <td>0.000000e+00</td>\n",
       "      <td>0.000000e+00</td>\n",
       "      <td>1.000000e+00</td>\n",
       "    </tr>\n",
       "    <tr>\n",
       "      <th>Year</th>\n",
       "      <td>1242260.0</td>\n",
       "      <td>2.022000e+03</td>\n",
       "      <td>1.186813e-02</td>\n",
       "      <td>2.022000e+03</td>\n",
       "      <td>2.022000e+03</td>\n",
       "      <td>2.022000e+03</td>\n",
       "      <td>2.022000e+03</td>\n",
       "      <td>2.023000e+03</td>\n",
       "    </tr>\n",
       "    <tr>\n",
       "      <th>Month</th>\n",
       "      <td>1242260.0</td>\n",
       "      <td>9.081235e+00</td>\n",
       "      <td>4.418092e-01</td>\n",
       "      <td>1.000000e+00</td>\n",
       "      <td>9.000000e+00</td>\n",
       "      <td>9.000000e+00</td>\n",
       "      <td>9.000000e+00</td>\n",
       "      <td>1.200000e+01</td>\n",
       "    </tr>\n",
       "  </tbody>\n",
       "</table>\n",
       "</div>"
      ],
      "text/plain": [
       "                        count          mean  ...           75%           max\n",
       "From Bank           1242260.0  2.213140e+05  ...  1.872640e+05  3.225444e+06\n",
       "Account             1242260.0  5.632118e+11  ...  7.907024e+11  9.999989e+11\n",
       "To Bank             1242260.0  3.047346e+05  ...  2.256640e+05  3.224991e+06\n",
       "Account.1           1242260.0  5.501964e+11  ...  7.755970e+11  9.999996e+11\n",
       "Amount Received     1242260.0 -7.206896e-19  ... -3.546822e-03  7.791197e+02\n",
       "Receiving Currency  1242260.0  8.466485e+00  ...  1.200000e+01  1.400000e+01\n",
       "Amount Paid         1242260.0  4.747400e-19  ... -3.394764e-03  7.800806e+02\n",
       "Payment Currency    1242260.0  8.489498e+00  ...  1.200000e+01  1.400000e+01\n",
       "Payment Format      1242260.0  2.435311e+00  ...  4.000000e+00  6.000000e+00\n",
       "Is Laundering       1242260.0  1.982580e-01  ...  0.000000e+00  1.000000e+00\n",
       "Year                1242260.0  2.022000e+03  ...  2.022000e+03  2.023000e+03\n",
       "Month               1242260.0  9.081235e+00  ...  9.000000e+00  1.200000e+01\n",
       "\n",
       "[12 rows x 8 columns]"
      ]
     },
     "execution_count": 44,
     "metadata": {},
     "output_type": "execute_result"
    }
   ],
   "source": [
    "data.describe().T"
   ]
  },
  {
   "cell_type": "code",
   "execution_count": null,
   "metadata": {
    "application/vnd.databricks.v1+cell": {
     "cellMetadata": {
      "byteLimit": 2048000,
      "rowLimit": 10000
     },
     "inputWidgets": {},
     "nuid": "9574c436-d5e0-4132-a005-1226e6227033",
     "showTitle": false,
     "title": ""
    },
    "colab": {
     "base_uri": "https://localhost:8080/",
     "height": 1000
    },
    "id": "OY8JcHLJg5au",
    "outputId": "c6f990d1-3f7d-434a-a89c-4cbc562c3666"
   },
   "outputs": [],
   "source": [
    "# plt.figure(figsize=(13,17))\n",
    "# sns.pairplot(data=data.drop(['Amount Received','Amount Paid'],axis=1))\n",
    "# plt.show()"
   ]
  },
  {
   "cell_type": "code",
   "execution_count": null,
   "metadata": {
    "application/vnd.databricks.v1+cell": {
     "cellMetadata": {
      "byteLimit": 2048000,
      "rowLimit": 10000
     },
     "inputWidgets": {},
     "nuid": "63b7c367-966c-4df4-9566-c36a0d3ff18a",
     "showTitle": false,
     "title": ""
    },
    "colab": {
     "base_uri": "https://localhost:8080/",
     "height": 1000
    },
    "id": "j4y5t5kJg5Y1",
    "outputId": "41ec094c-eaf2-4f1c-cf1d-fede8ee5c7c9"
   },
   "outputs": [
    {
     "data": {
      "text/plain": [
       "Is Laundering\n",
       "0.0    [[Axes(0.125,0.722857;0.215278x0.157143), Axes...\n",
       "1.0    [[Axes(0.125,0.722857;0.215278x0.157143), Axes...\n",
       "dtype: object"
      ]
     },
     "execution_count": 46,
     "metadata": {},
     "output_type": "execute_result"
    },
    {
     "data": {
      "image/png": "[encoded data removed]",
      "text/plain": [
       "<Figure size 1600x2000 with 12 Axes>"
      ]
     },
     "metadata": {},
     "output_type": "display_data"
    },
    {
     "data": {
      "image/png": "[encoded data removed]",
      "text/plain": [
       "<Figure size 1600x2000 with 12 Axes>"
      ]
     },
     "metadata": {},
     "output_type": "display_data"
    }
   ],
   "source": [
    "''' Visualising the variables by grouping them by class '''\n",
    "\n",
    "data.groupby('Is Laundering').hist(figsize=(16, 20), bins=50, xlabelsize=8, ylabelsize=8,alpha=0.4)"
   ]
  },
  {
   "cell_type": "code",
   "execution_count": null,
   "metadata": {
    "application/vnd.databricks.v1+cell": {
     "cellMetadata": {
      "byteLimit": 2048000,
      "rowLimit": 10000
     },
     "inputWidgets": {},
     "nuid": "7017b805-8f2b-4205-9b9f-6b2b19267f12",
     "showTitle": false,
     "title": ""
    },
    "colab": {
     "base_uri": "https://localhost:8080/"
    },
    "id": "KBvMM50ys4sY",
    "outputId": "07157065-0d70-4008-b7ec-543c7a411492"
   },
   "outputs": [
    {
     "name": "stdout",
     "output_type": "stream",
     "text": [
      "<class 'pandas.core.frame.DataFrame'>\n",
      "Int64Index: 1242260 entries, 0 to 1247270\n",
      "Data columns (total 12 columns):\n",
      " #   Column              Non-Null Count    Dtype  \n",
      "---  ------              --------------    -----  \n",
      " 0   From Bank           1242260 non-null  float64\n",
      " 1   Account             1242260 non-null  float64\n",
      " 2   To Bank             1242260 non-null  float64\n",
      " 3   Account.1           1242260 non-null  float64\n",
      " 4   Amount Received     1242260 non-null  float64\n",
      " 5   Receiving Currency  1242260 non-null  int64  \n",
      " 6   Amount Paid         1242260 non-null  float64\n",
      " 7   Payment Currency    1242260 non-null  int64  \n",
      " 8   Payment Format      1242260 non-null  int64  \n",
      " 9   Is Laundering       1242260 non-null  float64\n",
      " 10  Year                1242260 non-null  float64\n",
      " 11  Month               1242260 non-null  float64\n",
      "dtypes: float64(9), int64(3)\n",
      "memory usage: 123.2 MB\n"
     ]
    }
   ],
   "source": [
    "data.info()"
   ]
  },
  {
   "cell_type": "code",
   "execution_count": null,
   "metadata": {
    "application/vnd.databricks.v1+cell": {
     "cellMetadata": {
      "byteLimit": 2048000,
      "rowLimit": 10000
     },
     "inputWidgets": {},
     "nuid": "715ce4f3-8089-4816-94ab-abc2d2e13463",
     "showTitle": false,
     "title": ""
    },
    "colab": {
     "base_uri": "https://localhost:8080/",
     "height": 1000
    },
    "id": "c5PBDE90g5VR",
    "outputId": "07a5adff-dec4-4d22-c67e-53c72557c62e"
   },
   "outputs": [
    {
     "data": {
      "text/plain": [
       "<Axes: title={'center': 'Correlation Matrix'}>"
      ]
     },
     "execution_count": 48,
     "metadata": {},
     "output_type": "execute_result"
    },
    {
     "data": {
      "image/png": "[encoded data removed]",
      "text/plain": [
       "<Figure size 1500x1500 with 2 Axes>"
      ]
     },
     "metadata": {},
     "output_type": "display_data"
    }
   ],
   "source": [
    "''' correlation matrix to check multicolinearity between variables '''\n",
    "\n",
    "correlation = data.corr()\n",
    "plt.figure(figsize=(15,15))\n",
    "plt.title('Correlation Matrix')\n",
    "sns.heatmap(correlation, vmax=1, square=True,annot=True,cmap='cubehelix')"
   ]
  },
  {
   "cell_type": "markdown",
   "metadata": {
    "application/vnd.databricks.v1+cell": {
     "cellMetadata": {},
     "inputWidgets": {},
     "nuid": "13f63470-1dba-44cc-846e-067ce349c91d",
     "showTitle": false,
     "title": ""
    },
    "id": "Yb98UVgGhPng"
   },
   "source": [
    "\n",
    "**Model Building**"
   ]
  },
  {
   "cell_type": "code",
   "execution_count": null,
   "metadata": {
    "application/vnd.databricks.v1+cell": {
     "cellMetadata": {
      "byteLimit": 2048000,
      "rowLimit": 10000
     },
     "inputWidgets": {},
     "nuid": "64c3e0bb-b5cc-4524-8596-c74c3c95a174",
     "showTitle": false,
     "title": ""
    },
    "id": "3_rxLEbZg5Rg"
   },
   "outputs": [],
   "source": [
    "from sklearn.model_selection import train_test_split\n",
    "from sklearn.ensemble import RandomForestClassifier\n",
    "from sklearn.metrics import classification_report\n",
    "from sklearn.metrics import classification_report, confusion_matrix, accuracy_score"
   ]
  },
  {
   "cell_type": "code",
   "execution_count": null,
   "metadata": {
    "application/vnd.databricks.v1+cell": {
     "cellMetadata": {
      "byteLimit": 2048000,
      "rowLimit": 10000
     },
     "inputWidgets": {},
     "nuid": "46fd175b-e005-4f7c-bb14-c2b4c90df058",
     "showTitle": false,
     "title": ""
    },
    "colab": {
     "base_uri": "https://localhost:8080/",
     "height": 74
    },
    "id": "ZOG1Zb9Rg5P5",
    "outputId": "3abe5500-b305-443f-f14b-ead86ca0fd11"
   },
   "outputs": [
    {
     "data": {
      "text/html": [
       "<style>#sk-container-id-1 {color: black;background-color: white;}#sk-container-id-1 pre{padding: 0;}#sk-container-id-1 div.sk-toggleable {background-color: white;}#sk-container-id-1 label.sk-toggleable__label {cursor: pointer;display: block;width: 100%;margin-bottom: 0;padding: 0.3em;box-sizing: border-box;text-align: center;}#sk-container-id-1 label.sk-toggleable__label-arrow:before {content: \"▸\";float: left;margin-right: 0.25em;color: #696969;}#sk-container-id-1 label.sk-toggleable__label-arrow:hover:before {color: black;}#sk-container-id-1 div.sk-estimator:hover label.sk-toggleable__label-arrow:before {color: black;}#sk-container-id-1 div.sk-toggleable__content {max-height: 0;max-width: 0;overflow: hidden;text-align: left;background-color: #f0f8ff;}#sk-container-id-1 div.sk-toggleable__content pre {margin: 0.2em;color: black;border-radius: 0.25em;background-color: #f0f8ff;}#sk-container-id-1 input.sk-toggleable__control:checked~div.sk-toggleable__content {max-height: 200px;max-width: 100%;overflow: auto;}#sk-container-id-1 input.sk-toggleable__control:checked~label.sk-toggleable__label-arrow:before {content: \"▾\";}#sk-container-id-1 div.sk-estimator input.sk-toggleable__control:checked~label.sk-toggleable__label {background-color: #d4ebff;}#sk-container-id-1 div.sk-label input.sk-toggleable__control:checked~label.sk-toggleable__label {background-color: #d4ebff;}#sk-container-id-1 input.sk-hidden--visually {border: 0;clip: rect(1px 1px 1px 1px);clip: rect(1px, 1px, 1px, 1px);height: 1px;margin: -1px;overflow: hidden;padding: 0;position: absolute;width: 1px;}#sk-container-id-1 div.sk-estimator {font-family: monospace;background-color: #f0f8ff;border: 1px dotted black;border-radius: 0.25em;box-sizing: border-box;margin-bottom: 0.5em;}#sk-container-id-1 div.sk-estimator:hover {background-color: #d4ebff;}#sk-container-id-1 div.sk-parallel-item::after {content: \"\";width: 100%;border-bottom: 1px solid gray;flex-grow: 1;}#sk-container-id-1 div.sk-label:hover label.sk-toggleable__label {background-color: #d4ebff;}#sk-container-id-1 div.sk-serial::before {content: \"\";position: absolute;border-left: 1px solid gray;box-sizing: border-box;top: 0;bottom: 0;left: 50%;z-index: 0;}#sk-container-id-1 div.sk-serial {display: flex;flex-direction: column;align-items: center;background-color: white;padding-right: 0.2em;padding-left: 0.2em;position: relative;}#sk-container-id-1 div.sk-item {position: relative;z-index: 1;}#sk-container-id-1 div.sk-parallel {display: flex;align-items: stretch;justify-content: center;background-color: white;position: relative;}#sk-container-id-1 div.sk-item::before, #sk-container-id-1 div.sk-parallel-item::before {content: \"\";position: absolute;border-left: 1px solid gray;box-sizing: border-box;top: 0;bottom: 0;left: 50%;z-index: -1;}#sk-container-id-1 div.sk-parallel-item {display: flex;flex-direction: column;z-index: 1;position: relative;background-color: white;}#sk-container-id-1 div.sk-parallel-item:first-child::after {align-self: flex-end;width: 50%;}#sk-container-id-1 div.sk-parallel-item:last-child::after {align-self: flex-start;width: 50%;}#sk-container-id-1 div.sk-parallel-item:only-child::after {width: 0;}#sk-container-id-1 div.sk-dashed-wrapped {border: 1px dashed gray;margin: 0 0.4em 0.5em 0.4em;box-sizing: border-box;padding-bottom: 0.4em;background-color: white;}#sk-container-id-1 div.sk-label label {font-family: monospace;font-weight: bold;display: inline-block;line-height: 1.2em;}#sk-container-id-1 div.sk-label-container {text-align: center;}#sk-container-id-1 div.sk-container {/* jupyter's `normalize.less` sets `[hidden] { display: none; }` but bootstrap.min.css set `[hidden] { display: none !important; }` so we also need the `!important` here to be able to override the default hidden behavior on the sphinx rendered scikit-learn.org. See: https://github.com/scikit-learn/scikit-learn/issues/21755 */display: inline-block !important;position: relative;}#sk-container-id-1 div.sk-text-repr-fallback {display: none;}</style><div id=\"sk-container-id-1\" class=\"sk-top-container\"><div class=\"sk-text-repr-fallback\"><pre>RandomForestClassifier(random_state=42)</pre><b>In a Jupyter environment, please rerun this cell to show the HTML representation or trust the notebook. <br />On GitHub, the HTML representation is unable to render, please try loading this page with nbviewer.org.</b></div><div class=\"sk-container\" hidden><div class=\"sk-item\"><div class=\"sk-estimator sk-toggleable\"><input class=\"sk-toggleable__control sk-hidden--visually\" id=\"sk-estimator-id-1\" type=\"checkbox\" checked><label for=\"sk-estimator-id-1\" class=\"sk-toggleable__label sk-toggleable__label-arrow\">RandomForestClassifier</label><div class=\"sk-toggleable__content\"><pre>RandomForestClassifier(random_state=42)</pre></div></div></div></div></div>"
      ],
      "text/plain": [
       "RandomForestClassifier(random_state=42)"
      ]
     },
     "execution_count": 50,
     "metadata": {},
     "output_type": "execute_result"
    }
   ],
   "source": [
    "# Features and target variable\n",
    "X = data[['Amount Received', 'Amount Paid', 'Payment Format','Year','Month']]\n",
    "y = data['Is Laundering']\n",
    "\n",
    "# Split data into training and testing sets\n",
    "X_train, X_test, y_train, y_test = train_test_split(X, y, test_size=0.2, random_state=42)\n",
    "\n",
    "# Initialize and train Random Forest Classifier\n",
    "rf = RandomForestClassifier(n_estimators=100, random_state=42)\n",
    "rf.fit(X_train, y_train)\n"
   ]
  },
  {
   "cell_type": "code",
   "execution_count": null,
   "metadata": {
    "application/vnd.databricks.v1+cell": {
     "cellMetadata": {
      "byteLimit": 2048000,
      "rowLimit": 10000
     },
     "inputWidgets": {},
     "nuid": "ac8474cd-b099-49ec-9ee1-b27dd670ec43",
     "showTitle": false,
     "title": ""
    },
    "colab": {
     "base_uri": "https://localhost:8080/"
    },
    "id": "5az7jCpeg5OJ",
    "outputId": "bddb5f3e-6bc3-4fc9-c5b1-ddba61dd2007"
   },
   "outputs": [
    {
     "name": "stdout",
     "output_type": "stream",
     "text": [
      "Accuracy: 0.8960765057234396\n",
      "Confusion Matrix:\n",
      "[[198114    994]\n",
      " [ 24826  24518]]\n",
      "Classification Report:\n",
      "              precision    recall  f1-score   support\n",
      "\n",
      "         0.0       0.89      1.00      0.94    199108\n",
      "         1.0       0.96      0.50      0.66     49344\n",
      "\n",
      "    accuracy                           0.90    248452\n",
      "   macro avg       0.92      0.75      0.80    248452\n",
      "weighted avg       0.90      0.90      0.88    248452\n",
      "\n"
     ]
    }
   ],
   "source": [
    "# Predictions\n",
    "y_pred = rf.predict(X_test)\n",
    "\n",
    "# Evaluate the model\n",
    "accuracy = accuracy_score(y_test, y_pred)\n",
    "conf_matrix = confusion_matrix(y_test, y_pred)\n",
    "class_report = classification_report(y_test, y_pred)\n",
    "\n",
    "print(f'Accuracy: {accuracy}')\n",
    "print('Confusion Matrix:')\n",
    "print(conf_matrix)\n",
    "print('Classification Report:')\n",
    "print(class_report)"
   ]
  },
  {
   "cell_type": "code",
   "execution_count": null,
   "metadata": {
    "application/vnd.databricks.v1+cell": {
     "cellMetadata": {
      "byteLimit": 2048000,
      "rowLimit": 10000
     },
     "inputWidgets": {},
     "nuid": "21fe3a23-5c89-4ee4-84de-b7a641393d21",
     "showTitle": false,
     "title": ""
    },
    "id": "18vQxMSsg5MP"
   },
   "outputs": [],
   "source": [
    "import pandas as pd\n",
    "from sklearn.preprocessing import StandardScaler, LabelEncoder\n",
    "from sklearn.model_selection import train_test_split\n",
    "from sklearn.linear_model import LogisticRegression\n",
    "from sklearn.metrics import classification_report, confusion_matrix, accuracy_score\n",
    "\n",
    "\n",
    "X = data[['Amount Received', 'Amount Paid', 'Payment Format','Year','Month']]\n",
    "y = data['Is Laundering']\n",
    "# Split the data into training and testing sets\n",
    "X_train, X_test, y_train, y_test = train_test_split(X, y, test_size=0.2, random_state=42)\n",
    "\n",
    "# Initialize and train the Logistic Regression model\n",
    "logreg = LogisticRegression(random_state=42)\n",
    "logreg.fit(X_train, y_train)\n",
    "\n",
    "# Make predictions on the test data\n",
    "y_pred = logreg.predict(X_test)\n",
    "\n"
   ]
  },
  {
   "cell_type": "code",
   "execution_count": null,
   "metadata": {
    "application/vnd.databricks.v1+cell": {
     "cellMetadata": {
      "byteLimit": 2048000,
      "rowLimit": 10000
     },
     "inputWidgets": {},
     "nuid": "d4a09526-b212-4a6c-92e5-86d75176b0f2",
     "showTitle": false,
     "title": ""
    }
   },
   "outputs": [
    {
     "data": {
      "text/plain": [
       "From Bank             0\n",
       "Account               0\n",
       "To Bank               0\n",
       "Account.1             0\n",
       "Amount Received       0\n",
       "Receiving Currency    0\n",
       "Amount Paid           0\n",
       "Payment Currency      0\n",
       "Payment Format        0\n",
       "Is Laundering         0\n",
       "Year                  0\n",
       "Month                 0\n",
       "dtype: int64"
      ]
     },
     "execution_count": 53,
     "metadata": {},
     "output_type": "execute_result"
    }
   ],
   "source": [
    "data.isna().sum()"
   ]
  },
  {
   "cell_type": "code",
   "execution_count": null,
   "metadata": {
    "application/vnd.databricks.v1+cell": {
     "cellMetadata": {
      "byteLimit": 2048000,
      "rowLimit": 10000
     },
     "inputWidgets": {},
     "nuid": "766951bd-6e5a-4565-b3db-2c718e52e4b1",
     "showTitle": false,
     "title": ""
    },
    "colab": {
     "base_uri": "https://localhost:8080/"
    },
    "id": "eCkd3DlAg5Kr",
    "outputId": "c8ce6d6a-9df1-40f8-b4ea-836f38a7cf4d"
   },
   "outputs": [
    {
     "name": "stdout",
     "output_type": "stream",
     "text": [
      "Accuracy: 0.8762457134577303\n",
      "Confusion Matrix:\n",
      "[[175302  23806]\n",
      " [  6941  42403]]\n",
      "Classification Report:\n",
      "              precision    recall  f1-score   support\n",
      "\n",
      "         0.0       0.96      0.88      0.92    199108\n",
      "         1.0       0.64      0.86      0.73     49344\n",
      "\n",
      "    accuracy                           0.88    248452\n",
      "   macro avg       0.80      0.87      0.83    248452\n",
      "weighted avg       0.90      0.88      0.88    248452\n",
      "\n"
     ]
    }
   ],
   "source": [
    "# Evaluate the model\n",
    "accuracy = accuracy_score(y_test, y_pred)\n",
    "conf_matrix = confusion_matrix(y_test, y_pred)\n",
    "class_report = classification_report(y_test, y_pred)\n",
    "\n",
    "print(f'Accuracy: {accuracy}')\n",
    "print('Confusion Matrix:')\n",
    "print(conf_matrix)\n",
    "print('Classification Report:')\n",
    "print(class_report)\n"
   ]
  },
  {
   "cell_type": "code",
   "execution_count": null,
   "metadata": {
    "application/vnd.databricks.v1+cell": {
     "cellMetadata": {
      "byteLimit": 2048000,
      "rowLimit": 10000
     },
     "inputWidgets": {},
     "nuid": "90af147d-5e67-40ba-a60b-43ff69abc7d8",
     "showTitle": false,
     "title": ""
    },
    "colab": {
     "base_uri": "https://localhost:8080/"
    },
    "id": "rF-OcnWWh5NK",
    "outputId": "aa7c5975-b7eb-42cb-e330-c623bb3ac86e"
   },
   "outputs": [
    {
     "name": "stdout",
     "output_type": "stream",
     "text": [
      "Model Accuracy: 0.95\n"
     ]
    }
   ],
   "source": [
    "import pandas as pd\n",
    "from sklearn.model_selection import train_test_split\n",
    "from xgboost import XGBClassifier  # Use XGBRegressor for regression tasks\n",
    "\n",
    "# Assuming data is your DataFrame and you have done the encoding and imputation\n",
    "\n",
    "# Assuming 'target_column' is the name of the column you want to predict\n",
    "X = data[['Amount Received', 'Amount Paid', 'Payment Format','Year','Month','Receiving Currency','Payment Currency']]\n",
    "y = data['Is Laundering']\n",
    "\n",
    "# Split the data into training and testing sets\n",
    "X_train, X_test, y_train, y_test = train_test_split(X, y, test_size=0.2, random_state=42)\n",
    "\n",
    "# Initialize and fit the XGBoost model\n",
    "model = XGBClassifier()  # Use XGBRegressor() if it's a regression problem\n",
    "model.fit(X_train, y_train)\n",
    "\n",
    "# Evaluate the model (optional)\n",
    "accuracy = model.score(X_test, y_test)\n",
    "print(f\"Model Accuracy: {accuracy:.2f}\")\n",
    "\n",
    "# Make predictions (optional)\n",
    "# predictions = model.predict(X_test)\n"
   ]
  },
  {
   "cell_type": "code",
   "execution_count": null,
   "metadata": {
    "application/vnd.databricks.v1+cell": {
     "cellMetadata": {
      "byteLimit": 2048000,
      "rowLimit": 10000
     },
     "inputWidgets": {},
     "nuid": "6659c8f4-2694-4c5b-b7f7-c2894d237b49",
     "showTitle": false,
     "title": ""
    },
    "colab": {
     "base_uri": "https://localhost:8080/"
    },
    "id": "UhP5ZRlaIqtW",
    "outputId": "fbb163ab-efde-4a2a-ec31-e8e4614e2dbe"
   },
   "outputs": [
    {
     "name": "stdout",
     "output_type": "stream",
     "text": [
      "XGBoost model has been saved to 'xgb_model.pkl'\n"
     ]
    }
   ],
   "source": [
    "# Save the model to a pickle file\n",
    "with open('xgb_model.pkl', 'wb') as f:\n",
    "    pickle.dump(model, f)\n",
    "\n",
    "print(\"XGBoost model has been saved to 'xgb_model.pkl'\")"
   ]
  },
  {
   "cell_type": "code",
   "execution_count": null,
   "metadata": {
    "application/vnd.databricks.v1+cell": {
     "cellMetadata": {
      "byteLimit": 2048000,
      "rowLimit": 10000
     },
     "inputWidgets": {},
     "nuid": "4f2e2fad-47c5-43aa-826d-1981206c5b51",
     "showTitle": false,
     "title": ""
    }
   },
   "outputs": [],
   "source": [
    "import joblib\n",
    "from azure.storage.blob import BlobServiceClient\n",
    "\n",
    "# Path to save the model locally first\n",
    "local_model_path = \"/dbfs/mnt/models/random_forest_model.joblib\"\n",
    "\n",
    "# Save the model locally\n",
    "joblib.dump(rf, local_model_path)\n",
    "\n",
    "# Save the model to Azure Blob Storage\n",
    "blob_service_client = BlobServiceClient.from_connection_string(\"DefaultEndpointsProtocol=https;AccountName=amldatacnak;AccountKey=OD7x5wWUM2IoaFIUIVW1Sq8hI6HzKhnA7Rr4nI+9/OH0jElAD+eksiEoIsIyhjmSlgoynvE5cUwa+AStSBrKkQ==;EndpointSuffix=core.windows.net\")\n",
    "container_name = \"amldata\"\n",
    "blob_client = blob_service_client.get_blob_client(container=container_name, blob=\"models/random_forest_model.joblib\")\n",
    "\n",
    "with open(local_model_path, \"rb\") as data:\n",
    "    blob_client.upload_blob(data)\n"
   ]
  },
  {
   "cell_type": "code",
   "execution_count": null,
   "metadata": {
    "application/vnd.databricks.v1+cell": {
     "cellMetadata": {
      "byteLimit": 2048000,
      "rowLimit": 10000
     },
     "inputWidgets": {},
     "nuid": "9daa821b-2120-48a3-89b8-450a47feb89f",
     "showTitle": false,
     "title": ""
    }
   },
   "outputs": [],
   "source": [
    "import joblib\n",
    "from sklearn.preprocessing import LabelEncoder\n",
    "import os\n",
    "\n",
    "# Assuming you have access to the original training data\n",
    "# Load your training data\n",
    "# training_data = pd.read_csv('path_to_your_training_data.csv')\n",
    "file_path = \"/mnt/amldata1/raw_data/dataset.csv\"\n",
    "df1 = spark.read.csv(file_path, header=True, inferSchema=True)\n",
    "\n",
    "# Convert Spark DataFrame to pandas DataFrame\n",
    "df2 = df1.toPandas()\n",
    "# Define the categorical features\n",
    "categorical_features = ['Payment Format']  # Add your actual categorical columns\n",
    "\n",
    "# Create and fit the label encoders\n",
    "label_encoders = {}\n",
    "for feature in categorical_features:\n",
    "    encoder = LabelEncoder()\n",
    "    label_encoders[feature] = encoder.fit(df2[feature].astype(str))\n",
    "\n",
    "# Save the encoders to a file\n",
    "os.makedirs('/dbfs/mnt/', exist_ok=True)\n",
    "joblib.dump(label_encoders, '/dbfs/mnt/label_encoders.joblib')\n",
    "\n",
    "# You can now upload this file to Azure Blob Storage\n",
    "from azure.storage.blob import BlobServiceClient\n",
    "\n",
    "# Initialize BlobServiceClient\n",
    "connection_string = \"DefaultEndpointsProtocol=https;AccountName=amldatacnak;AccountKey=OD7x5wWUM2IoaFIUIVW1Sq8hI6HzKhnA7Rr4nI+9/OH0jElAD+eksiEoIsIyhjmSlgoynvE5cUwa+AStSBrKkQ==;EndpointSuffix=core.windows.net\"\n",
    "container_name = \"amldata\"\n",
    "\n",
    "# Initialize BlobServiceClient\n",
    "blob_service_client = BlobServiceClient.from_connection_string(connection_string)\n",
    "\n",
    "\n",
    "# Upload the label encoders to Azure Blob Storage\n",
    "label_encoders_blob_path = \"models/label_encoders.joblib\"\n",
    "label_encoders_blob_client = blob_service_client.get_blob_client(container=container_name, blob=label_encoders_blob_path)\n",
    "\n",
    "with open('/dbfs/mnt/label_encoders.joblib', \"rb\") as enc_file:\n",
    "    label_encoders_blob_client.upload_blob(enc_file, overwrite=True)\n"
   ]
  }
 ],
 "metadata": {
  "accelerator": "GPU",
  "application/vnd.databricks.v1+notebook": {
   "dashboards": [],
   "environmentMetadata": null,
   "language": "python",
   "notebookMetadata": {
    "mostRecentlyExecutedCommandWithImplicitDF": {
     "commandId": 2194570093285048,
     "dataframes": [
      "_sqldf"
     ]
    },
    "pythonIndentUnit": 4
   },
   "notebookName": "Final",
   "widgets": {}
  },
  "colab": {
   "gpuType": "T4",
   "provenance": []
  },
  "kernelspec": {
   "display_name": "Python 3 (ipykernel)",
   "language": "python",
   "name": "python3"
  },
  "language_info": {
   "codemirror_mode": {
    "name": "ipython",
    "version": 3
   },
   "file_extension": ".py",
   "mimetype": "text/x-python",
   "name": "python",
   "nbconvert_exporter": "python",
   "pygments_lexer": "ipython3",
   "version": "3.12.3"
  }
 },
 "nbformat": 4,
 "nbformat_minor": 0
}
